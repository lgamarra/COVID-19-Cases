{
 "cells": [
  {
   "cell_type": "markdown",
   "id": "9e2c792e",
   "metadata": {},
   "source": [
    "# Covid Cases Worldwide"
   ]
  },
  {
   "cell_type": "markdown",
   "id": "51c17fa3",
   "metadata": {},
   "source": [
    "![title](image.png)"
   ]
  },
  {
   "cell_type": "markdown",
   "id": "22d78677",
   "metadata": {},
   "source": [
    "The data being reviewed for this project shows Covid-19 cases worldwide from January 20, 2020 through June 1, 2020.\n",
    "\n",
    "Original dataset:\n",
    "https://www.kaggle.com/datasets/lin0li/covid19testing"
   ]
  },
  {
   "cell_type": "markdown",
   "id": "b0b76be0",
   "metadata": {},
   "source": [
    "## Importing data to notebook"
   ]
  },
  {
   "cell_type": "code",
   "execution_count": 205,
   "id": "ea99531f",
   "metadata": {
    "scrolled": true
   },
   "outputs": [],
   "source": [
    "import pandas as pd\n",
    "from datetime import datetime\n",
    "import matplotlib.pyplot as plt"
   ]
  },
  {
   "cell_type": "code",
   "execution_count": 142,
   "id": "b29bc66e",
   "metadata": {},
   "outputs": [],
   "source": [
    "covid_df = pd.read_csv('covid19.csv')"
   ]
  },
  {
   "cell_type": "markdown",
   "id": "f4517589",
   "metadata": {},
   "source": [
    "Checking for the number of columns and rows"
   ]
  },
  {
   "cell_type": "markdown",
   "id": "aa4efdb7",
   "metadata": {},
   "source": [
    "## Data Cleaning Process"
   ]
  },
  {
   "cell_type": "code",
   "execution_count": 143,
   "id": "e67d1280",
   "metadata": {},
   "outputs": [
    {
     "data": {
      "text/html": [
       "<div>\n",
       "<style scoped>\n",
       "    .dataframe tbody tr th:only-of-type {\n",
       "        vertical-align: middle;\n",
       "    }\n",
       "\n",
       "    .dataframe tbody tr th {\n",
       "        vertical-align: top;\n",
       "    }\n",
       "\n",
       "    .dataframe thead th {\n",
       "        text-align: right;\n",
       "    }\n",
       "</style>\n",
       "<table border=\"1\" class=\"dataframe\">\n",
       "  <thead>\n",
       "    <tr style=\"text-align: right;\">\n",
       "      <th></th>\n",
       "      <th>Date</th>\n",
       "      <th>Continent_Name</th>\n",
       "      <th>Two_Letter_Country_Code</th>\n",
       "      <th>Country_Region</th>\n",
       "      <th>Province_State</th>\n",
       "      <th>positive</th>\n",
       "      <th>hospitalized</th>\n",
       "      <th>recovered</th>\n",
       "      <th>death</th>\n",
       "      <th>total_tested</th>\n",
       "      <th>active</th>\n",
       "      <th>hospitalizedCurr</th>\n",
       "      <th>daily_tested</th>\n",
       "      <th>daily_positive</th>\n",
       "    </tr>\n",
       "  </thead>\n",
       "  <tbody>\n",
       "    <tr>\n",
       "      <th>0</th>\n",
       "      <td>2020-01-20</td>\n",
       "      <td>Asia</td>\n",
       "      <td>KR</td>\n",
       "      <td>South Korea</td>\n",
       "      <td>All States</td>\n",
       "      <td>1</td>\n",
       "      <td>0</td>\n",
       "      <td>0</td>\n",
       "      <td>0</td>\n",
       "      <td>4</td>\n",
       "      <td>0</td>\n",
       "      <td>0</td>\n",
       "      <td>0</td>\n",
       "      <td>0</td>\n",
       "    </tr>\n",
       "    <tr>\n",
       "      <th>1</th>\n",
       "      <td>2020-01-22</td>\n",
       "      <td>North America</td>\n",
       "      <td>US</td>\n",
       "      <td>United States</td>\n",
       "      <td>All States</td>\n",
       "      <td>1</td>\n",
       "      <td>0</td>\n",
       "      <td>0</td>\n",
       "      <td>0</td>\n",
       "      <td>1</td>\n",
       "      <td>0</td>\n",
       "      <td>0</td>\n",
       "      <td>0</td>\n",
       "      <td>0</td>\n",
       "    </tr>\n",
       "    <tr>\n",
       "      <th>2</th>\n",
       "      <td>2020-01-22</td>\n",
       "      <td>North America</td>\n",
       "      <td>US</td>\n",
       "      <td>United States</td>\n",
       "      <td>Washington</td>\n",
       "      <td>1</td>\n",
       "      <td>0</td>\n",
       "      <td>0</td>\n",
       "      <td>0</td>\n",
       "      <td>1</td>\n",
       "      <td>0</td>\n",
       "      <td>0</td>\n",
       "      <td>0</td>\n",
       "      <td>0</td>\n",
       "    </tr>\n",
       "    <tr>\n",
       "      <th>3</th>\n",
       "      <td>2020-01-23</td>\n",
       "      <td>North America</td>\n",
       "      <td>US</td>\n",
       "      <td>United States</td>\n",
       "      <td>All States</td>\n",
       "      <td>1</td>\n",
       "      <td>0</td>\n",
       "      <td>0</td>\n",
       "      <td>0</td>\n",
       "      <td>1</td>\n",
       "      <td>0</td>\n",
       "      <td>0</td>\n",
       "      <td>0</td>\n",
       "      <td>0</td>\n",
       "    </tr>\n",
       "    <tr>\n",
       "      <th>4</th>\n",
       "      <td>2020-01-23</td>\n",
       "      <td>North America</td>\n",
       "      <td>US</td>\n",
       "      <td>United States</td>\n",
       "      <td>Washington</td>\n",
       "      <td>1</td>\n",
       "      <td>0</td>\n",
       "      <td>0</td>\n",
       "      <td>0</td>\n",
       "      <td>1</td>\n",
       "      <td>0</td>\n",
       "      <td>0</td>\n",
       "      <td>0</td>\n",
       "      <td>0</td>\n",
       "    </tr>\n",
       "  </tbody>\n",
       "</table>\n",
       "</div>"
      ],
      "text/plain": [
       "         Date Continent_Name Two_Letter_Country_Code Country_Region  \\\n",
       "0  2020-01-20           Asia                      KR    South Korea   \n",
       "1  2020-01-22  North America                      US  United States   \n",
       "2  2020-01-22  North America                      US  United States   \n",
       "3  2020-01-23  North America                      US  United States   \n",
       "4  2020-01-23  North America                      US  United States   \n",
       "\n",
       "  Province_State  positive  hospitalized  recovered  death  total_tested  \\\n",
       "0     All States         1             0          0      0             4   \n",
       "1     All States         1             0          0      0             1   \n",
       "2     Washington         1             0          0      0             1   \n",
       "3     All States         1             0          0      0             1   \n",
       "4     Washington         1             0          0      0             1   \n",
       "\n",
       "   active  hospitalizedCurr  daily_tested  daily_positive  \n",
       "0       0                 0             0               0  \n",
       "1       0                 0             0               0  \n",
       "2       0                 0             0               0  \n",
       "3       0                 0             0               0  \n",
       "4       0                 0             0               0  "
      ]
     },
     "execution_count": 143,
     "metadata": {},
     "output_type": "execute_result"
    }
   ],
   "source": [
    "covid_df.head()"
   ]
  },
  {
   "cell_type": "code",
   "execution_count": 144,
   "id": "8c1d6e65",
   "metadata": {},
   "outputs": [
    {
     "data": {
      "text/html": [
       "<div>\n",
       "<style scoped>\n",
       "    .dataframe tbody tr th:only-of-type {\n",
       "        vertical-align: middle;\n",
       "    }\n",
       "\n",
       "    .dataframe tbody tr th {\n",
       "        vertical-align: top;\n",
       "    }\n",
       "\n",
       "    .dataframe thead th {\n",
       "        text-align: right;\n",
       "    }\n",
       "</style>\n",
       "<table border=\"1\" class=\"dataframe\">\n",
       "  <thead>\n",
       "    <tr style=\"text-align: right;\">\n",
       "      <th></th>\n",
       "      <th>Date</th>\n",
       "      <th>Continent_Name</th>\n",
       "      <th>Two_Letter_Country_Code</th>\n",
       "      <th>Country_Region</th>\n",
       "      <th>Province_State</th>\n",
       "      <th>positive</th>\n",
       "      <th>hospitalized</th>\n",
       "      <th>recovered</th>\n",
       "      <th>death</th>\n",
       "      <th>total_tested</th>\n",
       "      <th>active</th>\n",
       "      <th>hospitalizedCurr</th>\n",
       "      <th>daily_tested</th>\n",
       "      <th>daily_positive</th>\n",
       "    </tr>\n",
       "  </thead>\n",
       "  <tbody>\n",
       "    <tr>\n",
       "      <th>10901</th>\n",
       "      <td>2020-06-01</td>\n",
       "      <td>Asia</td>\n",
       "      <td>TW</td>\n",
       "      <td>Taiwan</td>\n",
       "      <td>All States</td>\n",
       "      <td>0</td>\n",
       "      <td>0</td>\n",
       "      <td>0</td>\n",
       "      <td>0</td>\n",
       "      <td>72319</td>\n",
       "      <td>0</td>\n",
       "      <td>0</td>\n",
       "      <td>237</td>\n",
       "      <td>0</td>\n",
       "    </tr>\n",
       "    <tr>\n",
       "      <th>10902</th>\n",
       "      <td>2020-06-01</td>\n",
       "      <td>Asia</td>\n",
       "      <td>VN</td>\n",
       "      <td>Vietnam</td>\n",
       "      <td>All States</td>\n",
       "      <td>0</td>\n",
       "      <td>0</td>\n",
       "      <td>0</td>\n",
       "      <td>0</td>\n",
       "      <td>261004</td>\n",
       "      <td>0</td>\n",
       "      <td>0</td>\n",
       "      <td>0</td>\n",
       "      <td>0</td>\n",
       "    </tr>\n",
       "  </tbody>\n",
       "</table>\n",
       "</div>"
      ],
      "text/plain": [
       "             Date Continent_Name Two_Letter_Country_Code Country_Region  \\\n",
       "10901  2020-06-01           Asia                      TW         Taiwan   \n",
       "10902  2020-06-01           Asia                      VN        Vietnam   \n",
       "\n",
       "      Province_State  positive  hospitalized  recovered  death  total_tested  \\\n",
       "10901     All States         0             0          0      0         72319   \n",
       "10902     All States         0             0          0      0        261004   \n",
       "\n",
       "       active  hospitalizedCurr  daily_tested  daily_positive  \n",
       "10901       0                 0           237               0  \n",
       "10902       0                 0             0               0  "
      ]
     },
     "execution_count": 144,
     "metadata": {},
     "output_type": "execute_result"
    }
   ],
   "source": [
    "covid_df.tail(2)"
   ]
  },
  {
   "cell_type": "code",
   "execution_count": 145,
   "id": "9a1db4f4",
   "metadata": {
    "scrolled": false
   },
   "outputs": [
    {
     "data": {
      "text/plain": [
       "(10903, 14)"
      ]
     },
     "execution_count": 145,
     "metadata": {},
     "output_type": "execute_result"
    }
   ],
   "source": [
    "covid_df.shape"
   ]
  },
  {
   "cell_type": "markdown",
   "id": "f1698cc9",
   "metadata": {},
   "source": [
    "This means there is a total of 10,903 rowns and 14 columns"
   ]
  },
  {
   "cell_type": "markdown",
   "id": "97398097",
   "metadata": {},
   "source": [
    "Using .info() method to check if any important values are missing"
   ]
  },
  {
   "cell_type": "code",
   "execution_count": 146,
   "id": "2470ace8",
   "metadata": {},
   "outputs": [
    {
     "name": "stdout",
     "output_type": "stream",
     "text": [
      "<class 'pandas.core.frame.DataFrame'>\n",
      "RangeIndex: 10903 entries, 0 to 10902\n",
      "Data columns (total 14 columns):\n",
      " #   Column                   Non-Null Count  Dtype \n",
      "---  ------                   --------------  ----- \n",
      " 0   Date                     10903 non-null  object\n",
      " 1   Continent_Name           10903 non-null  object\n",
      " 2   Two_Letter_Country_Code  10903 non-null  object\n",
      " 3   Country_Region           10903 non-null  object\n",
      " 4   Province_State           10903 non-null  object\n",
      " 5   positive                 10903 non-null  int64 \n",
      " 6   hospitalized             10903 non-null  int64 \n",
      " 7   recovered                10903 non-null  int64 \n",
      " 8   death                    10903 non-null  int64 \n",
      " 9   total_tested             10903 non-null  int64 \n",
      " 10  active                   10903 non-null  int64 \n",
      " 11  hospitalizedCurr         10903 non-null  int64 \n",
      " 12  daily_tested             10903 non-null  int64 \n",
      " 13  daily_positive           10903 non-null  int64 \n",
      "dtypes: int64(9), object(5)\n",
      "memory usage: 1.2+ MB\n"
     ]
    }
   ],
   "source": [
    "covid_df.info()"
   ]
  },
  {
   "cell_type": "markdown",
   "id": "b9fde76f",
   "metadata": {},
   "source": [
    "Below you will see the list of all columns to determine if anything needs to be changed"
   ]
  },
  {
   "cell_type": "code",
   "execution_count": 147,
   "id": "ecc1533e",
   "metadata": {},
   "outputs": [
    {
     "data": {
      "text/plain": [
       "Index(['Date', 'Continent_Name', 'Two_Letter_Country_Code', 'Country_Region',\n",
       "       'Province_State', 'positive', 'hospitalized', 'recovered', 'death',\n",
       "       'total_tested', 'active', 'hospitalizedCurr', 'daily_tested',\n",
       "       'daily_positive'],\n",
       "      dtype='object')"
      ]
     },
     "execution_count": 147,
     "metadata": {},
     "output_type": "execute_result"
    }
   ],
   "source": [
    "covid_df.columns"
   ]
  },
  {
   "cell_type": "markdown",
   "id": "88012bc2",
   "metadata": {},
   "source": [
    "Created a dictionary to change 3 column names"
   ]
  },
  {
   "cell_type": "code",
   "execution_count": 148,
   "id": "4d8d7689",
   "metadata": {},
   "outputs": [],
   "source": [
    "covid_df.rename(columns={\n",
    "    'Continent_Name': 'Continent',\n",
    "    'Two_Letter_Country_Code': 'Country_Code',\n",
    "    'Province_State': 'State'\n",
    "}, inplace=True)"
   ]
  },
  {
   "cell_type": "code",
   "execution_count": 149,
   "id": "91934313",
   "metadata": {},
   "outputs": [
    {
     "data": {
      "text/plain": [
       "Index(['Date', 'Continent', 'Country_Code', 'Country_Region', 'State',\n",
       "       'positive', 'hospitalized', 'recovered', 'death', 'total_tested',\n",
       "       'active', 'hospitalizedCurr', 'daily_tested', 'daily_positive'],\n",
       "      dtype='object')"
      ]
     },
     "execution_count": 149,
     "metadata": {},
     "output_type": "execute_result"
    }
   ],
   "source": [
    "covid_df.columns"
   ]
  },
  {
   "cell_type": "markdown",
   "id": "1c0b884b",
   "metadata": {},
   "source": [
    "This list was created to capitlize the first letter of each word"
   ]
  },
  {
   "cell_type": "code",
   "execution_count": 150,
   "id": "20fc67d3",
   "metadata": {},
   "outputs": [],
   "source": [
    "covid_df.columns = ['Date', 'Continent', 'Country_Code', 'Country_Region', 'State',\n",
    "       'Positive', 'Hospitalized', 'Recovered', 'Death', 'Total_Tested',\n",
    "       'Active', 'HospitalizedCurr', 'Daily_Tested', 'Daily_Positive']"
   ]
  },
  {
   "cell_type": "code",
   "execution_count": 151,
   "id": "0da08063",
   "metadata": {
    "scrolled": true
   },
   "outputs": [
    {
     "data": {
      "text/plain": [
       "Index(['Date', 'Continent', 'Country_Code', 'Country_Region', 'State',\n",
       "       'Positive', 'Hospitalized', 'Recovered', 'Death', 'Total_Tested',\n",
       "       'Active', 'HospitalizedCurr', 'Daily_Tested', 'Daily_Positive'],\n",
       "      dtype='object')"
      ]
     },
     "execution_count": 151,
     "metadata": {},
     "output_type": "execute_result"
    }
   ],
   "source": [
    "covid_df.columns"
   ]
  },
  {
   "cell_type": "markdown",
   "id": "7d80f33d",
   "metadata": {},
   "source": [
    "After going through this cleaning, I realized I wanted to drop some columns to make analyzis easier"
   ]
  },
  {
   "cell_type": "code",
   "execution_count": 152,
   "id": "5a060ee4",
   "metadata": {},
   "outputs": [],
   "source": [
    "covid_df.drop(['Country_Code', 'State', 'Hospitalized', 'Total_Tested', 'Active', 'HospitalizedCurr', 'Daily_Tested', 'Daily_Positive'], axis=1, inplace=True )\n"
   ]
  },
  {
   "cell_type": "markdown",
   "id": "6fa902b7",
   "metadata": {},
   "source": [
    "Since my dataframe has multiple rows with dates, I created a new column that will divide the dataframe into months for easier analysis."
   ]
  },
  {
   "cell_type": "code",
   "execution_count": 187,
   "id": "10416113",
   "metadata": {},
   "outputs": [],
   "source": [
    "data = {'Date': pd.date_range(start='2020-01-20', end='2020-06-01')}\n",
    "data = pd.DataFrame(data)\n",
    "covid_df['Month'] = data['Date'].apply(lambda x: datetime.strftime(x, '%B'))"
   ]
  },
  {
   "cell_type": "code",
   "execution_count": 188,
   "id": "0875c4d2",
   "metadata": {},
   "outputs": [],
   "source": [
    "#def extract_month(date):\n",
    "    #try:\n",
    "        #last_date = covid_df[covid_df['Date']==date]['Date'].last()\n",
    "        #return datetime.datetime.strftime(last_date, '%B')\n",
    "    #except:\n",
    "        #return None\n",
    "\n",
    "#covid_df['Month'] = covid_df['Date'].apply(extract_month)"
   ]
  },
  {
   "cell_type": "code",
   "execution_count": 189,
   "id": "e122181c",
   "metadata": {},
   "outputs": [],
   "source": [
    "#The above code is supposed to add the month to the last 2020-06-01 row, but instead"
   ]
  },
  {
   "cell_type": "markdown",
   "id": "281cbf63",
   "metadata": {},
   "source": [
    "Here I am checking that the new \"Month\" column was created"
   ]
  },
  {
   "cell_type": "code",
   "execution_count": 190,
   "id": "ffbff193",
   "metadata": {},
   "outputs": [
    {
     "data": {
      "text/html": [
       "<div>\n",
       "<style scoped>\n",
       "    .dataframe tbody tr th:only-of-type {\n",
       "        vertical-align: middle;\n",
       "    }\n",
       "\n",
       "    .dataframe tbody tr th {\n",
       "        vertical-align: top;\n",
       "    }\n",
       "\n",
       "    .dataframe thead th {\n",
       "        text-align: right;\n",
       "    }\n",
       "</style>\n",
       "<table border=\"1\" class=\"dataframe\">\n",
       "  <thead>\n",
       "    <tr style=\"text-align: right;\">\n",
       "      <th></th>\n",
       "      <th>Date</th>\n",
       "      <th>Continent</th>\n",
       "      <th>Country_Region</th>\n",
       "      <th>Positive</th>\n",
       "      <th>Recovered</th>\n",
       "      <th>Death</th>\n",
       "      <th>Month</th>\n",
       "    </tr>\n",
       "  </thead>\n",
       "  <tbody>\n",
       "    <tr>\n",
       "      <th>0</th>\n",
       "      <td>2020-01-20</td>\n",
       "      <td>Asia</td>\n",
       "      <td>South Korea</td>\n",
       "      <td>1</td>\n",
       "      <td>0</td>\n",
       "      <td>0</td>\n",
       "      <td>January</td>\n",
       "    </tr>\n",
       "    <tr>\n",
       "      <th>1</th>\n",
       "      <td>2020-01-22</td>\n",
       "      <td>North America</td>\n",
       "      <td>United States</td>\n",
       "      <td>1</td>\n",
       "      <td>0</td>\n",
       "      <td>0</td>\n",
       "      <td>January</td>\n",
       "    </tr>\n",
       "    <tr>\n",
       "      <th>2</th>\n",
       "      <td>2020-01-22</td>\n",
       "      <td>North America</td>\n",
       "      <td>United States</td>\n",
       "      <td>1</td>\n",
       "      <td>0</td>\n",
       "      <td>0</td>\n",
       "      <td>January</td>\n",
       "    </tr>\n",
       "    <tr>\n",
       "      <th>3</th>\n",
       "      <td>2020-01-23</td>\n",
       "      <td>North America</td>\n",
       "      <td>United States</td>\n",
       "      <td>1</td>\n",
       "      <td>0</td>\n",
       "      <td>0</td>\n",
       "      <td>January</td>\n",
       "    </tr>\n",
       "    <tr>\n",
       "      <th>4</th>\n",
       "      <td>2020-01-23</td>\n",
       "      <td>North America</td>\n",
       "      <td>United States</td>\n",
       "      <td>1</td>\n",
       "      <td>0</td>\n",
       "      <td>0</td>\n",
       "      <td>January</td>\n",
       "    </tr>\n",
       "  </tbody>\n",
       "</table>\n",
       "</div>"
      ],
      "text/plain": [
       "         Date      Continent Country_Region  Positive  Recovered  Death  \\\n",
       "0  2020-01-20           Asia    South Korea         1          0      0   \n",
       "1  2020-01-22  North America  United States         1          0      0   \n",
       "2  2020-01-22  North America  United States         1          0      0   \n",
       "3  2020-01-23  North America  United States         1          0      0   \n",
       "4  2020-01-23  North America  United States         1          0      0   \n",
       "\n",
       "     Month  \n",
       "0  January  \n",
       "1  January  \n",
       "2  January  \n",
       "3  January  \n",
       "4  January  "
      ]
     },
     "execution_count": 190,
     "metadata": {},
     "output_type": "execute_result"
    }
   ],
   "source": [
    "covid_df.head()"
   ]
  },
  {
   "cell_type": "code",
   "execution_count": 191,
   "id": "7e624c66",
   "metadata": {
    "scrolled": true
   },
   "outputs": [
    {
     "data": {
      "text/html": [
       "<div>\n",
       "<style scoped>\n",
       "    .dataframe tbody tr th:only-of-type {\n",
       "        vertical-align: middle;\n",
       "    }\n",
       "\n",
       "    .dataframe tbody tr th {\n",
       "        vertical-align: top;\n",
       "    }\n",
       "\n",
       "    .dataframe thead th {\n",
       "        text-align: right;\n",
       "    }\n",
       "</style>\n",
       "<table border=\"1\" class=\"dataframe\">\n",
       "  <thead>\n",
       "    <tr style=\"text-align: right;\">\n",
       "      <th></th>\n",
       "      <th>Date</th>\n",
       "      <th>Continent</th>\n",
       "      <th>Country_Region</th>\n",
       "      <th>Positive</th>\n",
       "      <th>Recovered</th>\n",
       "      <th>Death</th>\n",
       "      <th>Month</th>\n",
       "    </tr>\n",
       "  </thead>\n",
       "  <tbody>\n",
       "    <tr>\n",
       "      <th>10901</th>\n",
       "      <td>2020-06-01</td>\n",
       "      <td>Asia</td>\n",
       "      <td>Taiwan</td>\n",
       "      <td>0</td>\n",
       "      <td>0</td>\n",
       "      <td>0</td>\n",
       "      <td>NaN</td>\n",
       "    </tr>\n",
       "    <tr>\n",
       "      <th>10902</th>\n",
       "      <td>2020-06-01</td>\n",
       "      <td>Asia</td>\n",
       "      <td>Vietnam</td>\n",
       "      <td>0</td>\n",
       "      <td>0</td>\n",
       "      <td>0</td>\n",
       "      <td>NaN</td>\n",
       "    </tr>\n",
       "  </tbody>\n",
       "</table>\n",
       "</div>"
      ],
      "text/plain": [
       "             Date Continent Country_Region  Positive  Recovered  Death Month\n",
       "10901  2020-06-01      Asia         Taiwan         0          0      0   NaN\n",
       "10902  2020-06-01      Asia        Vietnam         0          0      0   NaN"
      ]
     },
     "execution_count": 191,
     "metadata": {},
     "output_type": "execute_result"
    }
   ],
   "source": [
    "covid_df.tail(2)"
   ]
  },
  {
   "cell_type": "code",
   "execution_count": 192,
   "id": "f9dac969",
   "metadata": {},
   "outputs": [],
   "source": [
    "#Need help with this as the last few rows of the dataset is not showing the month in the month column. My best guess is that the code is only showing the first row of 2020-06-01"
   ]
  },
  {
   "cell_type": "code",
   "execution_count": 195,
   "id": "3519767e",
   "metadata": {
    "scrolled": true
   },
   "outputs": [
    {
     "data": {
      "text/plain": [
       "Date                  0\n",
       "Continent             0\n",
       "Country_Region        0\n",
       "Positive              0\n",
       "Recovered             0\n",
       "Death                 0\n",
       "Month             10769\n",
       "dtype: int64"
      ]
     },
     "execution_count": 195,
     "metadata": {},
     "output_type": "execute_result"
    }
   ],
   "source": [
    "covid_df.isnull()\n",
    "covid_df.isnull().sum()\n"
   ]
  },
  {
   "cell_type": "code",
   "execution_count": null,
   "id": "e1cedf87",
   "metadata": {},
   "outputs": [],
   "source": []
  },
  {
   "cell_type": "markdown",
   "id": "aa487133",
   "metadata": {},
   "source": [
    "## Data Analysis"
   ]
  },
  {
   "cell_type": "code",
   "execution_count": 166,
   "id": "50773503",
   "metadata": {
    "scrolled": false
   },
   "outputs": [
    {
     "data": {
      "text/html": [
       "<div>\n",
       "<style scoped>\n",
       "    .dataframe tbody tr th:only-of-type {\n",
       "        vertical-align: middle;\n",
       "    }\n",
       "\n",
       "    .dataframe tbody tr th {\n",
       "        vertical-align: top;\n",
       "    }\n",
       "\n",
       "    .dataframe thead th {\n",
       "        text-align: right;\n",
       "    }\n",
       "</style>\n",
       "<table border=\"1\" class=\"dataframe\">\n",
       "  <thead>\n",
       "    <tr style=\"text-align: right;\">\n",
       "      <th></th>\n",
       "      <th>Positive</th>\n",
       "      <th>Recovered</th>\n",
       "      <th>Death</th>\n",
       "    </tr>\n",
       "  </thead>\n",
       "  <tbody>\n",
       "    <tr>\n",
       "      <th>count</th>\n",
       "      <td>10903.00</td>\n",
       "      <td>10903.00</td>\n",
       "      <td>10903.00</td>\n",
       "    </tr>\n",
       "    <tr>\n",
       "      <th>mean</th>\n",
       "      <td>17768.02</td>\n",
       "      <td>2409.22</td>\n",
       "      <td>947.59</td>\n",
       "    </tr>\n",
       "    <tr>\n",
       "      <th>std</th>\n",
       "      <td>93143.46</td>\n",
       "      <td>11254.21</td>\n",
       "      <td>5507.24</td>\n",
       "    </tr>\n",
       "    <tr>\n",
       "      <th>min</th>\n",
       "      <td>0.00</td>\n",
       "      <td>0.00</td>\n",
       "      <td>0.00</td>\n",
       "    </tr>\n",
       "    <tr>\n",
       "      <th>25%</th>\n",
       "      <td>44.00</td>\n",
       "      <td>0.00</td>\n",
       "      <td>0.00</td>\n",
       "    </tr>\n",
       "    <tr>\n",
       "      <th>50%</th>\n",
       "      <td>1026.00</td>\n",
       "      <td>0.00</td>\n",
       "      <td>6.00</td>\n",
       "    </tr>\n",
       "    <tr>\n",
       "      <th>75%</th>\n",
       "      <td>7440.00</td>\n",
       "      <td>500.50</td>\n",
       "      <td>136.00</td>\n",
       "    </tr>\n",
       "    <tr>\n",
       "      <th>max</th>\n",
       "      <td>1783570.00</td>\n",
       "      <td>171883.00</td>\n",
       "      <td>98536.00</td>\n",
       "    </tr>\n",
       "  </tbody>\n",
       "</table>\n",
       "</div>"
      ],
      "text/plain": [
       "        Positive  Recovered    Death\n",
       "count   10903.00   10903.00 10903.00\n",
       "mean    17768.02    2409.22   947.59\n",
       "std     93143.46   11254.21  5507.24\n",
       "min         0.00       0.00     0.00\n",
       "25%        44.00       0.00     0.00\n",
       "50%      1026.00       0.00     6.00\n",
       "75%      7440.00     500.50   136.00\n",
       "max   1783570.00  171883.00 98536.00"
      ]
     },
     "execution_count": 166,
     "metadata": {},
     "output_type": "execute_result"
    }
   ],
   "source": [
    "covid_df.describe()"
   ]
  },
  {
   "cell_type": "code",
   "execution_count": 168,
   "id": "560336a1",
   "metadata": {
    "scrolled": false
   },
   "outputs": [
    {
     "data": {
      "text/plain": [
       "count             10903\n",
       "unique                6\n",
       "top       North America\n",
       "freq               6452\n",
       "Name: Continent, dtype: object"
      ]
     },
     "execution_count": 168,
     "metadata": {},
     "output_type": "execute_result"
    }
   ],
   "source": [
    "covid_df['Continent'].describe()"
   ]
  },
  {
   "cell_type": "markdown",
   "id": "43f37a67",
   "metadata": {},
   "source": [
    "Continent Column has 6 unique values, top value is North America, which shows up 6452 times."
   ]
  },
  {
   "cell_type": "code",
   "execution_count": 169,
   "id": "fdf08520",
   "metadata": {
    "scrolled": false
   },
   "outputs": [
    {
     "data": {
      "text/html": [
       "<div>\n",
       "<style scoped>\n",
       "    .dataframe tbody tr th:only-of-type {\n",
       "        vertical-align: middle;\n",
       "    }\n",
       "\n",
       "    .dataframe tbody tr th {\n",
       "        vertical-align: top;\n",
       "    }\n",
       "\n",
       "    .dataframe thead th {\n",
       "        text-align: right;\n",
       "    }\n",
       "</style>\n",
       "<table border=\"1\" class=\"dataframe\">\n",
       "  <thead>\n",
       "    <tr style=\"text-align: right;\">\n",
       "      <th></th>\n",
       "      <th>Positive</th>\n",
       "      <th>Recovered</th>\n",
       "      <th>Death</th>\n",
       "    </tr>\n",
       "  </thead>\n",
       "  <tbody>\n",
       "    <tr>\n",
       "      <th>Positive</th>\n",
       "      <td>1.00</td>\n",
       "      <td>0.27</td>\n",
       "      <td>0.93</td>\n",
       "    </tr>\n",
       "    <tr>\n",
       "      <th>Recovered</th>\n",
       "      <td>0.27</td>\n",
       "      <td>1.00</td>\n",
       "      <td>0.33</td>\n",
       "    </tr>\n",
       "    <tr>\n",
       "      <th>Death</th>\n",
       "      <td>0.93</td>\n",
       "      <td>0.33</td>\n",
       "      <td>1.00</td>\n",
       "    </tr>\n",
       "  </tbody>\n",
       "</table>\n",
       "</div>"
      ],
      "text/plain": [
       "           Positive  Recovered  Death\n",
       "Positive       1.00       0.27   0.93\n",
       "Recovered      0.27       1.00   0.33\n",
       "Death          0.93       0.33   1.00"
      ]
     },
     "execution_count": 169,
     "metadata": {},
     "output_type": "execute_result"
    }
   ],
   "source": [
    "covid_df.corr()"
   ]
  },
  {
   "cell_type": "code",
   "execution_count": 234,
   "id": "5919a887",
   "metadata": {},
   "outputs": [
    {
     "data": {
      "text/html": [
       "<div>\n",
       "<style scoped>\n",
       "    .dataframe tbody tr th:only-of-type {\n",
       "        vertical-align: middle;\n",
       "    }\n",
       "\n",
       "    .dataframe tbody tr th {\n",
       "        vertical-align: top;\n",
       "    }\n",
       "\n",
       "    .dataframe thead th {\n",
       "        text-align: right;\n",
       "    }\n",
       "</style>\n",
       "<table border=\"1\" class=\"dataframe\">\n",
       "  <thead>\n",
       "    <tr style=\"text-align: right;\">\n",
       "      <th></th>\n",
       "      <th>US</th>\n",
       "      <th>Percentage</th>\n",
       "    </tr>\n",
       "  </thead>\n",
       "  <tbody>\n",
       "    <tr>\n",
       "      <th>Other</th>\n",
       "      <td>5,871</td>\n",
       "      <td>53.8%</td>\n",
       "    </tr>\n",
       "    <tr>\n",
       "      <th>US</th>\n",
       "      <td>5,032</td>\n",
       "      <td>46.2%</td>\n",
       "    </tr>\n",
       "  </tbody>\n",
       "</table>\n",
       "</div>"
      ],
      "text/plain": [
       "          US Percentage\n",
       "Other  5,871      53.8%\n",
       "US     5,032      46.2%"
      ]
     },
     "execution_count": 234,
     "metadata": {},
     "output_type": "execute_result"
    }
   ],
   "source": [
    "#Creating Mask to show which records match 'United States'\n",
    "us_mask = (covid_df['Country_Region'] == 'United States')\n",
    "\n",
    "#Slicing DataFrame to sum \"Positive\" column\n",
    "\"${:,}\".format(covid_df[us_mask]['Positive'].sum())\n",
    "\n",
    "#Adding \"US_Category\" column to set value to \"US\" or \"Other\"\n",
    "covid_df['US_Category'] = np.where(us_mask, 'US', 'Other')\n",
    "\n",
    "#Using value_counts() function to get count and percentage of \"US\"\n",
    "us_counts = covid_df['US_Category'].value_counts().apply(lambda x: \"{:,}\".format(x))\n",
    "\n",
    "us_percents = covid_df['US_Category'].value_counts(normalize=True).mul(100).round(1).astype(str) + '%'\n",
    "\n",
    "pd.concat([us_counts, us_percents], axis=1, keys=['US','Percentage'])\n",
    "\n"
   ]
  },
  {
   "cell_type": "code",
   "execution_count": 231,
   "id": "0bda1401",
   "metadata": {},
   "outputs": [],
   "source": [
    "#Check how many deaths happened in US vs rest of the world"
   ]
  },
  {
   "cell_type": "code",
   "execution_count": null,
   "id": "70d6927a",
   "metadata": {},
   "outputs": [],
   "source": [
    "#Check how many recovered in US vs rest of the world"
   ]
  },
  {
   "cell_type": "code",
   "execution_count": null,
   "id": "8ca9e61a",
   "metadata": {},
   "outputs": [],
   "source": []
  }
 ],
 "metadata": {
  "kernelspec": {
   "display_name": "Python 3 (ipykernel)",
   "language": "python",
   "name": "python3"
  },
  "language_info": {
   "codemirror_mode": {
    "name": "ipython",
    "version": 3
   },
   "file_extension": ".py",
   "mimetype": "text/x-python",
   "name": "python",
   "nbconvert_exporter": "python",
   "pygments_lexer": "ipython3",
   "version": "3.9.13"
  },
  "vscode": {
   "interpreter": {
    "hash": "aee8b7b246df8f9039afb4144a1f6fd8d2ca17a180786b69acc140d282b71a49"
   }
  }
 },
 "nbformat": 4,
 "nbformat_minor": 5
}
