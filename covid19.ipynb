{
 "cells": [
  {
   "cell_type": "code",
   "execution_count": 3,
   "id": "ea99531f",
   "metadata": {
    "scrolled": true
   },
   "outputs": [],
   "source": [
    "import pandas as pd"
   ]
  },
  {
   "cell_type": "code",
   "execution_count": 4,
   "id": "4e74a1a2",
   "metadata": {},
   "outputs": [],
   "source": [
    "covid_df = pd.read_csv('covid19.csv')"
   ]
  },
  {
   "cell_type": "code",
   "execution_count": 5,
   "id": "a3a37910",
   "metadata": {},
   "outputs": [
    {
     "data": {
      "text/plain": [
       "Index(['Date', 'Continent_Name', 'Two_Letter_Country_Code', 'Country_Region',\n",
       "       'Province_State', 'positive', 'hospitalized', 'recovered', 'death',\n",
       "       'total_tested', 'active', 'hospitalizedCurr', 'daily_tested',\n",
       "       'daily_positive'],\n",
       "      dtype='object')"
      ]
     },
     "execution_count": 5,
     "metadata": {},
     "output_type": "execute_result"
    }
   ],
   "source": [
    "covid_df.columns"
   ]
  },
  {
   "cell_type": "code",
   "execution_count": 6,
   "id": "a8ba2668",
   "metadata": {},
   "outputs": [
    {
     "data": {
      "text/plain": [
       "(10903, 14)"
      ]
     },
     "execution_count": 6,
     "metadata": {},
     "output_type": "execute_result"
    }
   ],
   "source": [
    "covid_df.shape"
   ]
  },
  {
   "cell_type": "code",
   "execution_count": 7,
   "id": "b0e84c47",
   "metadata": {},
   "outputs": [],
   "source": [
    "#this means there is a total of 10,903 rowns and 14 columns"
   ]
  },
  {
   "cell_type": "code",
   "execution_count": 8,
   "id": "30254b9c",
   "metadata": {},
   "outputs": [
    {
     "name": "stdout",
     "output_type": "stream",
     "text": [
      "<class 'pandas.core.frame.DataFrame'>\n",
      "RangeIndex: 10903 entries, 0 to 10902\n",
      "Data columns (total 14 columns):\n",
      " #   Column                   Non-Null Count  Dtype \n",
      "---  ------                   --------------  ----- \n",
      " 0   Date                     10903 non-null  object\n",
      " 1   Continent_Name           10903 non-null  object\n",
      " 2   Two_Letter_Country_Code  10903 non-null  object\n",
      " 3   Country_Region           10903 non-null  object\n",
      " 4   Province_State           10903 non-null  object\n",
      " 5   positive                 10903 non-null  int64 \n",
      " 6   hospitalized             10903 non-null  int64 \n",
      " 7   recovered                10903 non-null  int64 \n",
      " 8   death                    10903 non-null  int64 \n",
      " 9   total_tested             10903 non-null  int64 \n",
      " 10  active                   10903 non-null  int64 \n",
      " 11  hospitalizedCurr         10903 non-null  int64 \n",
      " 12  daily_tested             10903 non-null  int64 \n",
      " 13  daily_positive           10903 non-null  int64 \n",
      "dtypes: int64(9), object(5)\n",
      "memory usage: 1.2+ MB\n"
     ]
    }
   ],
   "source": [
    "covid_df.info()"
   ]
  },
  {
   "cell_type": "code",
   "execution_count": 10,
   "id": "07316e5d",
   "metadata": {},
   "outputs": [
    {
     "data": {
      "text/plain": [
       "Date                       0\n",
       "Continent_Name             0\n",
       "Two_Letter_Country_Code    0\n",
       "Country_Region             0\n",
       "Province_State             0\n",
       "positive                   0\n",
       "hospitalized               0\n",
       "recovered                  0\n",
       "death                      0\n",
       "total_tested               0\n",
       "active                     0\n",
       "hospitalizedCurr           0\n",
       "daily_tested               0\n",
       "daily_positive             0\n",
       "dtype: int64"
      ]
     },
     "execution_count": 10,
     "metadata": {},
     "output_type": "execute_result"
    }
   ],
   "source": [
    "covid_df.isnull().sum().sort_values(ascending=False)"
   ]
  },
  {
   "cell_type": "code",
   "execution_count": 11,
   "id": "8f124c61",
   "metadata": {},
   "outputs": [
    {
     "data": {
      "text/html": [
       "<div>\n",
       "<style scoped>\n",
       "    .dataframe tbody tr th:only-of-type {\n",
       "        vertical-align: middle;\n",
       "    }\n",
       "\n",
       "    .dataframe tbody tr th {\n",
       "        vertical-align: top;\n",
       "    }\n",
       "\n",
       "    .dataframe thead th {\n",
       "        text-align: right;\n",
       "    }\n",
       "</style>\n",
       "<table border=\"1\" class=\"dataframe\">\n",
       "  <thead>\n",
       "    <tr style=\"text-align: right;\">\n",
       "      <th></th>\n",
       "      <th>Date</th>\n",
       "      <th>Continent_Name</th>\n",
       "      <th>Two_Letter_Country_Code</th>\n",
       "      <th>Country_Region</th>\n",
       "      <th>Province_State</th>\n",
       "      <th>positive</th>\n",
       "      <th>hospitalized</th>\n",
       "      <th>recovered</th>\n",
       "      <th>death</th>\n",
       "      <th>total_tested</th>\n",
       "      <th>active</th>\n",
       "      <th>hospitalizedCurr</th>\n",
       "      <th>daily_tested</th>\n",
       "      <th>daily_positive</th>\n",
       "    </tr>\n",
       "  </thead>\n",
       "  <tbody>\n",
       "    <tr>\n",
       "      <th>0</th>\n",
       "      <td>2020-01-20</td>\n",
       "      <td>Asia</td>\n",
       "      <td>KR</td>\n",
       "      <td>South Korea</td>\n",
       "      <td>All States</td>\n",
       "      <td>1</td>\n",
       "      <td>0</td>\n",
       "      <td>0</td>\n",
       "      <td>0</td>\n",
       "      <td>4</td>\n",
       "      <td>0</td>\n",
       "      <td>0</td>\n",
       "      <td>0</td>\n",
       "      <td>0</td>\n",
       "    </tr>\n",
       "    <tr>\n",
       "      <th>1</th>\n",
       "      <td>2020-01-22</td>\n",
       "      <td>North America</td>\n",
       "      <td>US</td>\n",
       "      <td>United States</td>\n",
       "      <td>All States</td>\n",
       "      <td>1</td>\n",
       "      <td>0</td>\n",
       "      <td>0</td>\n",
       "      <td>0</td>\n",
       "      <td>1</td>\n",
       "      <td>0</td>\n",
       "      <td>0</td>\n",
       "      <td>0</td>\n",
       "      <td>0</td>\n",
       "    </tr>\n",
       "    <tr>\n",
       "      <th>2</th>\n",
       "      <td>2020-01-22</td>\n",
       "      <td>North America</td>\n",
       "      <td>US</td>\n",
       "      <td>United States</td>\n",
       "      <td>Washington</td>\n",
       "      <td>1</td>\n",
       "      <td>0</td>\n",
       "      <td>0</td>\n",
       "      <td>0</td>\n",
       "      <td>1</td>\n",
       "      <td>0</td>\n",
       "      <td>0</td>\n",
       "      <td>0</td>\n",
       "      <td>0</td>\n",
       "    </tr>\n",
       "    <tr>\n",
       "      <th>3</th>\n",
       "      <td>2020-01-23</td>\n",
       "      <td>North America</td>\n",
       "      <td>US</td>\n",
       "      <td>United States</td>\n",
       "      <td>All States</td>\n",
       "      <td>1</td>\n",
       "      <td>0</td>\n",
       "      <td>0</td>\n",
       "      <td>0</td>\n",
       "      <td>1</td>\n",
       "      <td>0</td>\n",
       "      <td>0</td>\n",
       "      <td>0</td>\n",
       "      <td>0</td>\n",
       "    </tr>\n",
       "    <tr>\n",
       "      <th>4</th>\n",
       "      <td>2020-01-23</td>\n",
       "      <td>North America</td>\n",
       "      <td>US</td>\n",
       "      <td>United States</td>\n",
       "      <td>Washington</td>\n",
       "      <td>1</td>\n",
       "      <td>0</td>\n",
       "      <td>0</td>\n",
       "      <td>0</td>\n",
       "      <td>1</td>\n",
       "      <td>0</td>\n",
       "      <td>0</td>\n",
       "      <td>0</td>\n",
       "      <td>0</td>\n",
       "    </tr>\n",
       "  </tbody>\n",
       "</table>\n",
       "</div>"
      ],
      "text/plain": [
       "         Date Continent_Name Two_Letter_Country_Code Country_Region  \\\n",
       "0  2020-01-20           Asia                      KR    South Korea   \n",
       "1  2020-01-22  North America                      US  United States   \n",
       "2  2020-01-22  North America                      US  United States   \n",
       "3  2020-01-23  North America                      US  United States   \n",
       "4  2020-01-23  North America                      US  United States   \n",
       "\n",
       "  Province_State  positive  hospitalized  recovered  death  total_tested  \\\n",
       "0     All States         1             0          0      0             4   \n",
       "1     All States         1             0          0      0             1   \n",
       "2     Washington         1             0          0      0             1   \n",
       "3     All States         1             0          0      0             1   \n",
       "4     Washington         1             0          0      0             1   \n",
       "\n",
       "   active  hospitalizedCurr  daily_tested  daily_positive  \n",
       "0       0                 0             0               0  \n",
       "1       0                 0             0               0  \n",
       "2       0                 0             0               0  \n",
       "3       0                 0             0               0  \n",
       "4       0                 0             0               0  "
      ]
     },
     "execution_count": 11,
     "metadata": {},
     "output_type": "execute_result"
    }
   ],
   "source": [
    "covid_df.head()"
   ]
  },
  {
   "cell_type": "code",
   "execution_count": 47,
   "id": "43958b8d",
   "metadata": {},
   "outputs": [],
   "source": [
    "# Data Cleaning Process"
   ]
  },
  {
   "cell_type": "code",
   "execution_count": null,
   "id": "6ed62b88",
   "metadata": {},
   "outputs": [],
   "source": [
    "# List all Columns"
   ]
  },
  {
   "cell_type": "code",
   "execution_count": 24,
   "id": "eff7afb2",
   "metadata": {},
   "outputs": [
    {
     "data": {
      "text/plain": [
       "Index(['Date', 'Continent_Name', 'Two_Letter_Country_Code', 'Country_Region',\n",
       "       'Province_State', 'positive', 'hospitalized', 'recovered', 'death',\n",
       "       'total_tested', 'active', 'hospitalizedCurr', 'daily_tested',\n",
       "       'daily_positive'],\n",
       "      dtype='object')"
      ]
     },
     "execution_count": 24,
     "metadata": {},
     "output_type": "execute_result"
    }
   ],
   "source": [
    "covid_df.columns"
   ]
  },
  {
   "cell_type": "code",
   "execution_count": null,
   "id": "53161738",
   "metadata": {},
   "outputs": [],
   "source": [
    "# Created a dictionary to change the name of 3 of the column names"
   ]
  },
  {
   "cell_type": "code",
   "execution_count": 25,
   "id": "2be821d1",
   "metadata": {},
   "outputs": [],
   "source": [
    "covid_df.rename(columns={\n",
    "    'Continent_Name': 'Continent',\n",
    "    'Two_Letter_Country_Code': 'Country_Code',\n",
    "    'Province_State': 'State'\n",
    "}, inplace=True)"
   ]
  },
  {
   "cell_type": "code",
   "execution_count": 26,
   "id": "3ced4f4c",
   "metadata": {},
   "outputs": [
    {
     "data": {
      "text/plain": [
       "Index(['Date', 'Continent', 'Country_Code', 'Country_Region', 'State',\n",
       "       'positive', 'hospitalized', 'recovered', 'death', 'total_tested',\n",
       "       'active', 'hospitalizedCurr', 'daily_tested', 'daily_positive'],\n",
       "      dtype='object')"
      ]
     },
     "execution_count": 26,
     "metadata": {},
     "output_type": "execute_result"
    }
   ],
   "source": [
    "covid_df.columns"
   ]
  },
  {
   "cell_type": "code",
   "execution_count": null,
   "id": "ca570d1d",
   "metadata": {},
   "outputs": [],
   "source": [
    "# This list was created to capitlize the first letter of each word"
   ]
  },
  {
   "cell_type": "code",
   "execution_count": 28,
   "id": "0863de0c",
   "metadata": {},
   "outputs": [],
   "source": [
    "covid_df.columns = ['Date', 'Continent', 'Country_Code', 'Country_Region', 'State',\n",
    "       'Positive', 'Hospitalized', 'Recovered', 'Death', 'Total_Tested',\n",
    "       'Active', 'HospitalizedCurr', 'Daily_Tested', 'Daily_Positive']"
   ]
  },
  {
   "cell_type": "code",
   "execution_count": 30,
   "id": "faf05ed0",
   "metadata": {},
   "outputs": [
    {
     "data": {
      "text/plain": [
       "Index(['Date', 'Continent', 'Country_Code', 'Country_Region', 'State',\n",
       "       'Positive', 'Hospitalized', 'Recovered', 'Death', 'Total_Tested',\n",
       "       'Active', 'HospitalizedCurr', 'Daily_Tested', 'Daily_Positive'],\n",
       "      dtype='object')"
      ]
     },
     "execution_count": 30,
     "metadata": {},
     "output_type": "execute_result"
    }
   ],
   "source": [
    "covid_df.columns"
   ]
  },
  {
   "cell_type": "code",
   "execution_count": 36,
   "id": "0cf9f042",
   "metadata": {},
   "outputs": [
    {
     "data": {
      "text/html": [
       "<div>\n",
       "<style scoped>\n",
       "    .dataframe tbody tr th:only-of-type {\n",
       "        vertical-align: middle;\n",
       "    }\n",
       "\n",
       "    .dataframe tbody tr th {\n",
       "        vertical-align: top;\n",
       "    }\n",
       "\n",
       "    .dataframe thead th {\n",
       "        text-align: right;\n",
       "    }\n",
       "</style>\n",
       "<table border=\"1\" class=\"dataframe\">\n",
       "  <thead>\n",
       "    <tr style=\"text-align: right;\">\n",
       "      <th></th>\n",
       "      <th>Positive</th>\n",
       "      <th>Hospitalized</th>\n",
       "      <th>Recovered</th>\n",
       "      <th>Death</th>\n",
       "      <th>Total_Tested</th>\n",
       "      <th>Active</th>\n",
       "      <th>HospitalizedCurr</th>\n",
       "      <th>Daily_Tested</th>\n",
       "      <th>Daily_Positive</th>\n",
       "    </tr>\n",
       "  </thead>\n",
       "  <tbody>\n",
       "    <tr>\n",
       "      <th>count</th>\n",
       "      <td>1.090300e+04</td>\n",
       "      <td>10903.000000</td>\n",
       "      <td>10903.000000</td>\n",
       "      <td>10903.000000</td>\n",
       "      <td>1.090300e+04</td>\n",
       "      <td>10903.000000</td>\n",
       "      <td>10903.000000</td>\n",
       "      <td>10903.000000</td>\n",
       "      <td>10903.000000</td>\n",
       "    </tr>\n",
       "    <tr>\n",
       "      <th>mean</th>\n",
       "      <td>1.776802e+04</td>\n",
       "      <td>766.402550</td>\n",
       "      <td>2409.220490</td>\n",
       "      <td>947.592956</td>\n",
       "      <td>1.954757e+05</td>\n",
       "      <td>4472.194717</td>\n",
       "      <td>454.074475</td>\n",
       "      <td>6841.403283</td>\n",
       "      <td>497.884619</td>\n",
       "    </tr>\n",
       "    <tr>\n",
       "      <th>std</th>\n",
       "      <td>9.314346e+04</td>\n",
       "      <td>5626.325766</td>\n",
       "      <td>11254.209177</td>\n",
       "      <td>5507.242206</td>\n",
       "      <td>8.190222e+05</td>\n",
       "      <td>22277.479931</td>\n",
       "      <td>2253.045376</td>\n",
       "      <td>27198.457892</td>\n",
       "      <td>2354.834051</td>\n",
       "    </tr>\n",
       "    <tr>\n",
       "      <th>min</th>\n",
       "      <td>0.000000e+00</td>\n",
       "      <td>0.000000</td>\n",
       "      <td>0.000000</td>\n",
       "      <td>0.000000</td>\n",
       "      <td>0.000000e+00</td>\n",
       "      <td>-2.000000</td>\n",
       "      <td>0.000000</td>\n",
       "      <td>-330230.000000</td>\n",
       "      <td>-4735.000000</td>\n",
       "    </tr>\n",
       "    <tr>\n",
       "      <th>25%</th>\n",
       "      <td>4.400000e+01</td>\n",
       "      <td>0.000000</td>\n",
       "      <td>0.000000</td>\n",
       "      <td>0.000000</td>\n",
       "      <td>2.147500e+03</td>\n",
       "      <td>0.000000</td>\n",
       "      <td>0.000000</td>\n",
       "      <td>71.000000</td>\n",
       "      <td>1.000000</td>\n",
       "    </tr>\n",
       "    <tr>\n",
       "      <th>50%</th>\n",
       "      <td>1.026000e+03</td>\n",
       "      <td>0.000000</td>\n",
       "      <td>0.000000</td>\n",
       "      <td>6.000000</td>\n",
       "      <td>3.035800e+04</td>\n",
       "      <td>0.000000</td>\n",
       "      <td>0.000000</td>\n",
       "      <td>1048.000000</td>\n",
       "      <td>29.000000</td>\n",
       "    </tr>\n",
       "    <tr>\n",
       "      <th>75%</th>\n",
       "      <td>7.440000e+03</td>\n",
       "      <td>0.000000</td>\n",
       "      <td>500.500000</td>\n",
       "      <td>136.000000</td>\n",
       "      <td>1.252850e+05</td>\n",
       "      <td>660.500000</td>\n",
       "      <td>28.000000</td>\n",
       "      <td>4688.500000</td>\n",
       "      <td>264.000000</td>\n",
       "    </tr>\n",
       "    <tr>\n",
       "      <th>max</th>\n",
       "      <td>1.783570e+06</td>\n",
       "      <td>89590.000000</td>\n",
       "      <td>171883.000000</td>\n",
       "      <td>98536.000000</td>\n",
       "      <td>1.693689e+07</td>\n",
       "      <td>280931.000000</td>\n",
       "      <td>33004.000000</td>\n",
       "      <td>492276.000000</td>\n",
       "      <td>63047.000000</td>\n",
       "    </tr>\n",
       "  </tbody>\n",
       "</table>\n",
       "</div>"
      ],
      "text/plain": [
       "           Positive  Hospitalized      Recovered         Death  Total_Tested  \\\n",
       "count  1.090300e+04  10903.000000   10903.000000  10903.000000  1.090300e+04   \n",
       "mean   1.776802e+04    766.402550    2409.220490    947.592956  1.954757e+05   \n",
       "std    9.314346e+04   5626.325766   11254.209177   5507.242206  8.190222e+05   \n",
       "min    0.000000e+00      0.000000       0.000000      0.000000  0.000000e+00   \n",
       "25%    4.400000e+01      0.000000       0.000000      0.000000  2.147500e+03   \n",
       "50%    1.026000e+03      0.000000       0.000000      6.000000  3.035800e+04   \n",
       "75%    7.440000e+03      0.000000     500.500000    136.000000  1.252850e+05   \n",
       "max    1.783570e+06  89590.000000  171883.000000  98536.000000  1.693689e+07   \n",
       "\n",
       "              Active  HospitalizedCurr   Daily_Tested  Daily_Positive  \n",
       "count   10903.000000      10903.000000   10903.000000    10903.000000  \n",
       "mean     4472.194717        454.074475    6841.403283      497.884619  \n",
       "std     22277.479931       2253.045376   27198.457892     2354.834051  \n",
       "min        -2.000000          0.000000 -330230.000000    -4735.000000  \n",
       "25%         0.000000          0.000000      71.000000        1.000000  \n",
       "50%         0.000000          0.000000    1048.000000       29.000000  \n",
       "75%       660.500000         28.000000    4688.500000      264.000000  \n",
       "max    280931.000000      33004.000000  492276.000000    63047.000000  "
      ]
     },
     "execution_count": 36,
     "metadata": {},
     "output_type": "execute_result"
    }
   ],
   "source": [
    "covid_df.describe()"
   ]
  },
  {
   "cell_type": "code",
   "execution_count": 38,
   "id": "804b4d45",
   "metadata": {},
   "outputs": [
    {
     "data": {
      "text/plain": [
       "count             10903\n",
       "unique                6\n",
       "top       North America\n",
       "freq               6452\n",
       "Name: Continent, dtype: object"
      ]
     },
     "execution_count": 38,
     "metadata": {},
     "output_type": "execute_result"
    }
   ],
   "source": [
    "covid_df['Continent'].describe()"
   ]
  },
  {
   "cell_type": "code",
   "execution_count": 39,
   "id": "c095690a",
   "metadata": {},
   "outputs": [],
   "source": [
    "#Contient Column has 6 unique values, top value is North America, which shows up 6452 times."
   ]
  },
  {
   "cell_type": "code",
   "execution_count": 43,
   "id": "177a5406",
   "metadata": {},
   "outputs": [
    {
     "data": {
      "text/html": [
       "<div>\n",
       "<style scoped>\n",
       "    .dataframe tbody tr th:only-of-type {\n",
       "        vertical-align: middle;\n",
       "    }\n",
       "\n",
       "    .dataframe tbody tr th {\n",
       "        vertical-align: top;\n",
       "    }\n",
       "\n",
       "    .dataframe thead th {\n",
       "        text-align: right;\n",
       "    }\n",
       "</style>\n",
       "<table border=\"1\" class=\"dataframe\">\n",
       "  <thead>\n",
       "    <tr style=\"text-align: right;\">\n",
       "      <th></th>\n",
       "      <th>Positive</th>\n",
       "      <th>Hospitalized</th>\n",
       "      <th>Recovered</th>\n",
       "      <th>Death</th>\n",
       "      <th>Total_Tested</th>\n",
       "      <th>Active</th>\n",
       "      <th>HospitalizedCurr</th>\n",
       "      <th>Daily_Tested</th>\n",
       "      <th>Daily_Positive</th>\n",
       "    </tr>\n",
       "  </thead>\n",
       "  <tbody>\n",
       "    <tr>\n",
       "      <th>Positive</th>\n",
       "      <td>1.000000</td>\n",
       "      <td>0.224506</td>\n",
       "      <td>0.274848</td>\n",
       "      <td>0.927603</td>\n",
       "      <td>0.880175</td>\n",
       "      <td>0.314676</td>\n",
       "      <td>0.190164</td>\n",
       "      <td>0.841353</td>\n",
       "      <td>0.790040</td>\n",
       "    </tr>\n",
       "    <tr>\n",
       "      <th>Hospitalized</th>\n",
       "      <td>0.224506</td>\n",
       "      <td>1.000000</td>\n",
       "      <td>0.310516</td>\n",
       "      <td>0.241926</td>\n",
       "      <td>0.082223</td>\n",
       "      <td>0.731876</td>\n",
       "      <td>0.308061</td>\n",
       "      <td>0.069533</td>\n",
       "      <td>0.113165</td>\n",
       "    </tr>\n",
       "    <tr>\n",
       "      <th>Recovered</th>\n",
       "      <td>0.274848</td>\n",
       "      <td>0.310516</td>\n",
       "      <td>1.000000</td>\n",
       "      <td>0.330940</td>\n",
       "      <td>0.401057</td>\n",
       "      <td>0.646578</td>\n",
       "      <td>0.378250</td>\n",
       "      <td>0.314510</td>\n",
       "      <td>0.132055</td>\n",
       "    </tr>\n",
       "    <tr>\n",
       "      <th>Death</th>\n",
       "      <td>0.927603</td>\n",
       "      <td>0.241926</td>\n",
       "      <td>0.330940</td>\n",
       "      <td>1.000000</td>\n",
       "      <td>0.789355</td>\n",
       "      <td>0.315093</td>\n",
       "      <td>0.316667</td>\n",
       "      <td>0.736571</td>\n",
       "      <td>0.641467</td>\n",
       "    </tr>\n",
       "    <tr>\n",
       "      <th>Total_Tested</th>\n",
       "      <td>0.880175</td>\n",
       "      <td>0.082223</td>\n",
       "      <td>0.401057</td>\n",
       "      <td>0.789355</td>\n",
       "      <td>1.000000</td>\n",
       "      <td>0.344443</td>\n",
       "      <td>0.119578</td>\n",
       "      <td>0.932272</td>\n",
       "      <td>0.667083</td>\n",
       "    </tr>\n",
       "    <tr>\n",
       "      <th>Active</th>\n",
       "      <td>0.314676</td>\n",
       "      <td>0.731876</td>\n",
       "      <td>0.646578</td>\n",
       "      <td>0.315093</td>\n",
       "      <td>0.344443</td>\n",
       "      <td>1.000000</td>\n",
       "      <td>0.505717</td>\n",
       "      <td>0.333117</td>\n",
       "      <td>0.230089</td>\n",
       "    </tr>\n",
       "    <tr>\n",
       "      <th>HospitalizedCurr</th>\n",
       "      <td>0.190164</td>\n",
       "      <td>0.308061</td>\n",
       "      <td>0.378250</td>\n",
       "      <td>0.316667</td>\n",
       "      <td>0.119578</td>\n",
       "      <td>0.505717</td>\n",
       "      <td>1.000000</td>\n",
       "      <td>0.126723</td>\n",
       "      <td>0.182067</td>\n",
       "    </tr>\n",
       "    <tr>\n",
       "      <th>Daily_Tested</th>\n",
       "      <td>0.841353</td>\n",
       "      <td>0.069533</td>\n",
       "      <td>0.314510</td>\n",
       "      <td>0.736571</td>\n",
       "      <td>0.932272</td>\n",
       "      <td>0.333117</td>\n",
       "      <td>0.126723</td>\n",
       "      <td>1.000000</td>\n",
       "      <td>0.766903</td>\n",
       "    </tr>\n",
       "    <tr>\n",
       "      <th>Daily_Positive</th>\n",
       "      <td>0.790040</td>\n",
       "      <td>0.113165</td>\n",
       "      <td>0.132055</td>\n",
       "      <td>0.641467</td>\n",
       "      <td>0.667083</td>\n",
       "      <td>0.230089</td>\n",
       "      <td>0.182067</td>\n",
       "      <td>0.766903</td>\n",
       "      <td>1.000000</td>\n",
       "    </tr>\n",
       "  </tbody>\n",
       "</table>\n",
       "</div>"
      ],
      "text/plain": [
       "                  Positive  Hospitalized  Recovered     Death  Total_Tested  \\\n",
       "Positive          1.000000      0.224506   0.274848  0.927603      0.880175   \n",
       "Hospitalized      0.224506      1.000000   0.310516  0.241926      0.082223   \n",
       "Recovered         0.274848      0.310516   1.000000  0.330940      0.401057   \n",
       "Death             0.927603      0.241926   0.330940  1.000000      0.789355   \n",
       "Total_Tested      0.880175      0.082223   0.401057  0.789355      1.000000   \n",
       "Active            0.314676      0.731876   0.646578  0.315093      0.344443   \n",
       "HospitalizedCurr  0.190164      0.308061   0.378250  0.316667      0.119578   \n",
       "Daily_Tested      0.841353      0.069533   0.314510  0.736571      0.932272   \n",
       "Daily_Positive    0.790040      0.113165   0.132055  0.641467      0.667083   \n",
       "\n",
       "                    Active  HospitalizedCurr  Daily_Tested  Daily_Positive  \n",
       "Positive          0.314676          0.190164      0.841353        0.790040  \n",
       "Hospitalized      0.731876          0.308061      0.069533        0.113165  \n",
       "Recovered         0.646578          0.378250      0.314510        0.132055  \n",
       "Death             0.315093          0.316667      0.736571        0.641467  \n",
       "Total_Tested      0.344443          0.119578      0.932272        0.667083  \n",
       "Active            1.000000          0.505717      0.333117        0.230089  \n",
       "HospitalizedCurr  0.505717          1.000000      0.126723        0.182067  \n",
       "Daily_Tested      0.333117          0.126723      1.000000        0.766903  \n",
       "Daily_Positive    0.230089          0.182067      0.766903        1.000000  "
      ]
     },
     "execution_count": 43,
     "metadata": {},
     "output_type": "execute_result"
    }
   ],
   "source": [
    "covid_df.corr()"
   ]
  }
 ],
 "metadata": {
  "kernelspec": {
   "display_name": "Python 3 (ipykernel)",
   "language": "python",
   "name": "python3"
  },
  "language_info": {
   "codemirror_mode": {
    "name": "ipython",
    "version": 3
   },
   "file_extension": ".py",
   "mimetype": "text/x-python",
   "name": "python",
   "nbconvert_exporter": "python",
   "pygments_lexer": "ipython3",
   "version": "3.9.13"
  },
  "vscode": {
   "interpreter": {
    "hash": "aee8b7b246df8f9039afb4144a1f6fd8d2ca17a180786b69acc140d282b71a49"
   }
  }
 },
 "nbformat": 4,
 "nbformat_minor": 5
}
