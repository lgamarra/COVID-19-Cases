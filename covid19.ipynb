{
 "cells": [
  {
   "cell_type": "markdown",
   "id": "9e2c792e",
   "metadata": {},
   "source": [
    "# COVID-19 Cases in The United States and Territories vs Worldwide"
   ]
  },
  {
   "cell_type": "markdown",
   "id": "51c17fa3",
   "metadata": {},
   "source": [
    "![title](image.png)"
   ]
  },
  {
   "cell_type": "markdown",
   "id": "22d78677",
   "metadata": {},
   "source": [
    "The data being reviewed for this project shows COVID-19 cases worldwide from January 20, 2020 through June 1, 2020. However, this data analysis project does a comparison of positive case in the United States and territories with other countries.\n",
    "\n",
    "The main comparisons are:\n",
    "- Positive cases in the US and Worldwide\n",
    "- Recovered cases in the US and Worldwide\n",
    "- Deaths in the US and Worldwide\n",
    "\n",
    "After doing the analysis, I came to the conclusion that positive cases in the United States were significantly higher than all countries combined. However, testing was widely available in the United States in comparison to the rest of the world at the beginning of the pandemic. In addition, while \"Positive\" cases were a lot higher than \"Recovered\" cases, the analyst that initially studied the data referred other analysts to an article from Nate Silver with Five Thirty Eight about how positive COVID-19 cases need to be taken with a grain of salt.\n",
    "\n",
    "Original dataset:\n",
    "https://www.kaggle.com/datasets/lin0li/covid19testing\n",
    "\n",
    "Additional Source:\n",
    "https://fivethirtyeight.com/features/coronavirus-case-counts-are-meaningless/\n",
    "\n",
    "* This data analysis is my final project for Code Louisville - Data Analysis 1"
   ]
  },
  {
   "cell_type": "markdown",
   "id": "b0b76be0",
   "metadata": {},
   "source": [
    "## Importing data to notebook"
   ]
  },
  {
   "cell_type": "markdown",
   "id": "3946be77",
   "metadata": {},
   "source": [
    "Requirement 1: Read in data"
   ]
  },
  {
   "cell_type": "code",
   "execution_count": 283,
   "id": "ea99531f",
   "metadata": {
    "scrolled": true
   },
   "outputs": [],
   "source": [
    "import pandas as pd\n",
    "import numpy as np\n",
    "import matplotlib.pyplot as plt"
   ]
  },
  {
   "cell_type": "code",
   "execution_count": 284,
   "id": "b29bc66e",
   "metadata": {},
   "outputs": [],
   "source": [
    "covid_df = pd.read_csv('covid19.csv')"
   ]
  },
  {
   "cell_type": "markdown",
   "id": "aa4efdb7",
   "metadata": {},
   "source": [
    "## Data Cleaning Process"
   ]
  },
  {
   "cell_type": "markdown",
   "id": "4ad2083b",
   "metadata": {},
   "source": [
    "Requirement 2: Manipulate and clean data"
   ]
  },
  {
   "cell_type": "markdown",
   "id": "1d161e1a",
   "metadata": {},
   "source": [
    "Using .head( ) and .tail( ) methods to make sure all dataframe is being imported from top to bottom"
   ]
  },
  {
   "cell_type": "code",
   "execution_count": 285,
   "id": "e67d1280",
   "metadata": {},
   "outputs": [
    {
     "data": {
      "text/html": [
       "<div>\n",
       "<style scoped>\n",
       "    .dataframe tbody tr th:only-of-type {\n",
       "        vertical-align: middle;\n",
       "    }\n",
       "\n",
       "    .dataframe tbody tr th {\n",
       "        vertical-align: top;\n",
       "    }\n",
       "\n",
       "    .dataframe thead th {\n",
       "        text-align: right;\n",
       "    }\n",
       "</style>\n",
       "<table border=\"1\" class=\"dataframe\">\n",
       "  <thead>\n",
       "    <tr style=\"text-align: right;\">\n",
       "      <th></th>\n",
       "      <th>Date</th>\n",
       "      <th>Continent_Name</th>\n",
       "      <th>Two_Letter_Country_Code</th>\n",
       "      <th>Country_Region</th>\n",
       "      <th>Province_State</th>\n",
       "      <th>positive</th>\n",
       "      <th>hospitalized</th>\n",
       "      <th>recovered</th>\n",
       "      <th>death</th>\n",
       "      <th>total_tested</th>\n",
       "      <th>active</th>\n",
       "      <th>hospitalizedCurr</th>\n",
       "      <th>daily_tested</th>\n",
       "      <th>daily_positive</th>\n",
       "    </tr>\n",
       "  </thead>\n",
       "  <tbody>\n",
       "    <tr>\n",
       "      <th>0</th>\n",
       "      <td>2020-01-20</td>\n",
       "      <td>Asia</td>\n",
       "      <td>KR</td>\n",
       "      <td>South Korea</td>\n",
       "      <td>All States</td>\n",
       "      <td>1</td>\n",
       "      <td>0</td>\n",
       "      <td>0</td>\n",
       "      <td>0</td>\n",
       "      <td>4</td>\n",
       "      <td>0</td>\n",
       "      <td>0</td>\n",
       "      <td>0</td>\n",
       "      <td>0</td>\n",
       "    </tr>\n",
       "    <tr>\n",
       "      <th>1</th>\n",
       "      <td>2020-01-22</td>\n",
       "      <td>North America</td>\n",
       "      <td>US</td>\n",
       "      <td>United States</td>\n",
       "      <td>All States</td>\n",
       "      <td>1</td>\n",
       "      <td>0</td>\n",
       "      <td>0</td>\n",
       "      <td>0</td>\n",
       "      <td>1</td>\n",
       "      <td>0</td>\n",
       "      <td>0</td>\n",
       "      <td>0</td>\n",
       "      <td>0</td>\n",
       "    </tr>\n",
       "    <tr>\n",
       "      <th>2</th>\n",
       "      <td>2020-01-22</td>\n",
       "      <td>North America</td>\n",
       "      <td>US</td>\n",
       "      <td>United States</td>\n",
       "      <td>Washington</td>\n",
       "      <td>1</td>\n",
       "      <td>0</td>\n",
       "      <td>0</td>\n",
       "      <td>0</td>\n",
       "      <td>1</td>\n",
       "      <td>0</td>\n",
       "      <td>0</td>\n",
       "      <td>0</td>\n",
       "      <td>0</td>\n",
       "    </tr>\n",
       "    <tr>\n",
       "      <th>3</th>\n",
       "      <td>2020-01-23</td>\n",
       "      <td>North America</td>\n",
       "      <td>US</td>\n",
       "      <td>United States</td>\n",
       "      <td>All States</td>\n",
       "      <td>1</td>\n",
       "      <td>0</td>\n",
       "      <td>0</td>\n",
       "      <td>0</td>\n",
       "      <td>1</td>\n",
       "      <td>0</td>\n",
       "      <td>0</td>\n",
       "      <td>0</td>\n",
       "      <td>0</td>\n",
       "    </tr>\n",
       "    <tr>\n",
       "      <th>4</th>\n",
       "      <td>2020-01-23</td>\n",
       "      <td>North America</td>\n",
       "      <td>US</td>\n",
       "      <td>United States</td>\n",
       "      <td>Washington</td>\n",
       "      <td>1</td>\n",
       "      <td>0</td>\n",
       "      <td>0</td>\n",
       "      <td>0</td>\n",
       "      <td>1</td>\n",
       "      <td>0</td>\n",
       "      <td>0</td>\n",
       "      <td>0</td>\n",
       "      <td>0</td>\n",
       "    </tr>\n",
       "    <tr>\n",
       "      <th>...</th>\n",
       "      <td>...</td>\n",
       "      <td>...</td>\n",
       "      <td>...</td>\n",
       "      <td>...</td>\n",
       "      <td>...</td>\n",
       "      <td>...</td>\n",
       "      <td>...</td>\n",
       "      <td>...</td>\n",
       "      <td>...</td>\n",
       "      <td>...</td>\n",
       "      <td>...</td>\n",
       "      <td>...</td>\n",
       "      <td>...</td>\n",
       "      <td>...</td>\n",
       "    </tr>\n",
       "    <tr>\n",
       "      <th>95</th>\n",
       "      <td>2020-01-31</td>\n",
       "      <td>Oceania</td>\n",
       "      <td>AU</td>\n",
       "      <td>Australia</td>\n",
       "      <td>Northern Territory</td>\n",
       "      <td>0</td>\n",
       "      <td>0</td>\n",
       "      <td>0</td>\n",
       "      <td>0</td>\n",
       "      <td>0</td>\n",
       "      <td>0</td>\n",
       "      <td>0</td>\n",
       "      <td>0</td>\n",
       "      <td>0</td>\n",
       "    </tr>\n",
       "    <tr>\n",
       "      <th>96</th>\n",
       "      <td>2020-01-31</td>\n",
       "      <td>Oceania</td>\n",
       "      <td>AU</td>\n",
       "      <td>Australia</td>\n",
       "      <td>Queensland</td>\n",
       "      <td>2</td>\n",
       "      <td>0</td>\n",
       "      <td>0</td>\n",
       "      <td>0</td>\n",
       "      <td>0</td>\n",
       "      <td>0</td>\n",
       "      <td>0</td>\n",
       "      <td>0</td>\n",
       "      <td>0</td>\n",
       "    </tr>\n",
       "    <tr>\n",
       "      <th>97</th>\n",
       "      <td>2020-01-31</td>\n",
       "      <td>Oceania</td>\n",
       "      <td>AU</td>\n",
       "      <td>Australia</td>\n",
       "      <td>South Australia</td>\n",
       "      <td>0</td>\n",
       "      <td>0</td>\n",
       "      <td>0</td>\n",
       "      <td>0</td>\n",
       "      <td>0</td>\n",
       "      <td>0</td>\n",
       "      <td>0</td>\n",
       "      <td>0</td>\n",
       "      <td>0</td>\n",
       "    </tr>\n",
       "    <tr>\n",
       "      <th>98</th>\n",
       "      <td>2020-01-31</td>\n",
       "      <td>Oceania</td>\n",
       "      <td>AU</td>\n",
       "      <td>Australia</td>\n",
       "      <td>Tasmania</td>\n",
       "      <td>0</td>\n",
       "      <td>0</td>\n",
       "      <td>0</td>\n",
       "      <td>0</td>\n",
       "      <td>0</td>\n",
       "      <td>0</td>\n",
       "      <td>0</td>\n",
       "      <td>0</td>\n",
       "      <td>0</td>\n",
       "    </tr>\n",
       "    <tr>\n",
       "      <th>99</th>\n",
       "      <td>2020-01-31</td>\n",
       "      <td>Oceania</td>\n",
       "      <td>AU</td>\n",
       "      <td>Australia</td>\n",
       "      <td>Victoria</td>\n",
       "      <td>3</td>\n",
       "      <td>0</td>\n",
       "      <td>0</td>\n",
       "      <td>0</td>\n",
       "      <td>0</td>\n",
       "      <td>0</td>\n",
       "      <td>0</td>\n",
       "      <td>0</td>\n",
       "      <td>0</td>\n",
       "    </tr>\n",
       "  </tbody>\n",
       "</table>\n",
       "<p>100 rows × 14 columns</p>\n",
       "</div>"
      ],
      "text/plain": [
       "          Date Continent_Name Two_Letter_Country_Code Country_Region  \\\n",
       "0   2020-01-20           Asia                      KR    South Korea   \n",
       "1   2020-01-22  North America                      US  United States   \n",
       "2   2020-01-22  North America                      US  United States   \n",
       "3   2020-01-23  North America                      US  United States   \n",
       "4   2020-01-23  North America                      US  United States   \n",
       "..         ...            ...                     ...            ...   \n",
       "95  2020-01-31        Oceania                      AU      Australia   \n",
       "96  2020-01-31        Oceania                      AU      Australia   \n",
       "97  2020-01-31        Oceania                      AU      Australia   \n",
       "98  2020-01-31        Oceania                      AU      Australia   \n",
       "99  2020-01-31        Oceania                      AU      Australia   \n",
       "\n",
       "        Province_State  positive  hospitalized  recovered  death  \\\n",
       "0           All States         1             0          0      0   \n",
       "1           All States         1             0          0      0   \n",
       "2           Washington         1             0          0      0   \n",
       "3           All States         1             0          0      0   \n",
       "4           Washington         1             0          0      0   \n",
       "..                 ...       ...           ...        ...    ...   \n",
       "95  Northern Territory         0             0          0      0   \n",
       "96          Queensland         2             0          0      0   \n",
       "97     South Australia         0             0          0      0   \n",
       "98            Tasmania         0             0          0      0   \n",
       "99            Victoria         3             0          0      0   \n",
       "\n",
       "    total_tested  active  hospitalizedCurr  daily_tested  daily_positive  \n",
       "0              4       0                 0             0               0  \n",
       "1              1       0                 0             0               0  \n",
       "2              1       0                 0             0               0  \n",
       "3              1       0                 0             0               0  \n",
       "4              1       0                 0             0               0  \n",
       "..           ...     ...               ...           ...             ...  \n",
       "95             0       0                 0             0               0  \n",
       "96             0       0                 0             0               0  \n",
       "97             0       0                 0             0               0  \n",
       "98             0       0                 0             0               0  \n",
       "99             0       0                 0             0               0  \n",
       "\n",
       "[100 rows x 14 columns]"
      ]
     },
     "execution_count": 285,
     "metadata": {},
     "output_type": "execute_result"
    }
   ],
   "source": [
    "covid_df.head(100)"
   ]
  },
  {
   "cell_type": "code",
   "execution_count": 286,
   "id": "8c1d6e65",
   "metadata": {
    "scrolled": true
   },
   "outputs": [
    {
     "data": {
      "text/html": [
       "<div>\n",
       "<style scoped>\n",
       "    .dataframe tbody tr th:only-of-type {\n",
       "        vertical-align: middle;\n",
       "    }\n",
       "\n",
       "    .dataframe tbody tr th {\n",
       "        vertical-align: top;\n",
       "    }\n",
       "\n",
       "    .dataframe thead th {\n",
       "        text-align: right;\n",
       "    }\n",
       "</style>\n",
       "<table border=\"1\" class=\"dataframe\">\n",
       "  <thead>\n",
       "    <tr style=\"text-align: right;\">\n",
       "      <th></th>\n",
       "      <th>Date</th>\n",
       "      <th>Continent_Name</th>\n",
       "      <th>Two_Letter_Country_Code</th>\n",
       "      <th>Country_Region</th>\n",
       "      <th>Province_State</th>\n",
       "      <th>positive</th>\n",
       "      <th>hospitalized</th>\n",
       "      <th>recovered</th>\n",
       "      <th>death</th>\n",
       "      <th>total_tested</th>\n",
       "      <th>active</th>\n",
       "      <th>hospitalizedCurr</th>\n",
       "      <th>daily_tested</th>\n",
       "      <th>daily_positive</th>\n",
       "    </tr>\n",
       "  </thead>\n",
       "  <tbody>\n",
       "    <tr>\n",
       "      <th>10901</th>\n",
       "      <td>2020-06-01</td>\n",
       "      <td>Asia</td>\n",
       "      <td>TW</td>\n",
       "      <td>Taiwan</td>\n",
       "      <td>All States</td>\n",
       "      <td>0</td>\n",
       "      <td>0</td>\n",
       "      <td>0</td>\n",
       "      <td>0</td>\n",
       "      <td>72319</td>\n",
       "      <td>0</td>\n",
       "      <td>0</td>\n",
       "      <td>237</td>\n",
       "      <td>0</td>\n",
       "    </tr>\n",
       "    <tr>\n",
       "      <th>10902</th>\n",
       "      <td>2020-06-01</td>\n",
       "      <td>Asia</td>\n",
       "      <td>VN</td>\n",
       "      <td>Vietnam</td>\n",
       "      <td>All States</td>\n",
       "      <td>0</td>\n",
       "      <td>0</td>\n",
       "      <td>0</td>\n",
       "      <td>0</td>\n",
       "      <td>261004</td>\n",
       "      <td>0</td>\n",
       "      <td>0</td>\n",
       "      <td>0</td>\n",
       "      <td>0</td>\n",
       "    </tr>\n",
       "  </tbody>\n",
       "</table>\n",
       "</div>"
      ],
      "text/plain": [
       "             Date Continent_Name Two_Letter_Country_Code Country_Region  \\\n",
       "10901  2020-06-01           Asia                      TW         Taiwan   \n",
       "10902  2020-06-01           Asia                      VN        Vietnam   \n",
       "\n",
       "      Province_State  positive  hospitalized  recovered  death  total_tested  \\\n",
       "10901     All States         0             0          0      0         72319   \n",
       "10902     All States         0             0          0      0        261004   \n",
       "\n",
       "       active  hospitalizedCurr  daily_tested  daily_positive  \n",
       "10901       0                 0           237               0  \n",
       "10902       0                 0             0               0  "
      ]
     },
     "execution_count": 286,
     "metadata": {},
     "output_type": "execute_result"
    }
   ],
   "source": [
    "covid_df.tail(2)"
   ]
  },
  {
   "cell_type": "markdown",
   "id": "9ff6f39d",
   "metadata": {},
   "source": [
    "After further analysis, I noticed that some data was duplicated. For example, there were rows showing cases per state, but also rows showing cases for all states. I dropped \"All State\" values"
   ]
  },
  {
   "cell_type": "code",
   "execution_count": 287,
   "id": "e9cdf8da",
   "metadata": {},
   "outputs": [],
   "source": [
    "covid_df = covid_df[covid_df['Province_State'] != 'All States'].drop('Province_State', axis=1)"
   ]
  },
  {
   "cell_type": "code",
   "execution_count": 288,
   "id": "69c88790",
   "metadata": {},
   "outputs": [
    {
     "data": {
      "text/html": [
       "<div>\n",
       "<style scoped>\n",
       "    .dataframe tbody tr th:only-of-type {\n",
       "        vertical-align: middle;\n",
       "    }\n",
       "\n",
       "    .dataframe tbody tr th {\n",
       "        vertical-align: top;\n",
       "    }\n",
       "\n",
       "    .dataframe thead th {\n",
       "        text-align: right;\n",
       "    }\n",
       "</style>\n",
       "<table border=\"1\" class=\"dataframe\">\n",
       "  <thead>\n",
       "    <tr style=\"text-align: right;\">\n",
       "      <th></th>\n",
       "      <th>Date</th>\n",
       "      <th>Continent_Name</th>\n",
       "      <th>Two_Letter_Country_Code</th>\n",
       "      <th>Country_Region</th>\n",
       "      <th>positive</th>\n",
       "      <th>hospitalized</th>\n",
       "      <th>recovered</th>\n",
       "      <th>death</th>\n",
       "      <th>total_tested</th>\n",
       "      <th>active</th>\n",
       "      <th>hospitalizedCurr</th>\n",
       "      <th>daily_tested</th>\n",
       "      <th>daily_positive</th>\n",
       "    </tr>\n",
       "  </thead>\n",
       "  <tbody>\n",
       "    <tr>\n",
       "      <th>2</th>\n",
       "      <td>2020-01-22</td>\n",
       "      <td>North America</td>\n",
       "      <td>US</td>\n",
       "      <td>United States</td>\n",
       "      <td>1</td>\n",
       "      <td>0</td>\n",
       "      <td>0</td>\n",
       "      <td>0</td>\n",
       "      <td>1</td>\n",
       "      <td>0</td>\n",
       "      <td>0</td>\n",
       "      <td>0</td>\n",
       "      <td>0</td>\n",
       "    </tr>\n",
       "    <tr>\n",
       "      <th>4</th>\n",
       "      <td>2020-01-23</td>\n",
       "      <td>North America</td>\n",
       "      <td>US</td>\n",
       "      <td>United States</td>\n",
       "      <td>1</td>\n",
       "      <td>0</td>\n",
       "      <td>0</td>\n",
       "      <td>0</td>\n",
       "      <td>1</td>\n",
       "      <td>0</td>\n",
       "      <td>0</td>\n",
       "      <td>0</td>\n",
       "      <td>0</td>\n",
       "    </tr>\n",
       "    <tr>\n",
       "      <th>7</th>\n",
       "      <td>2020-01-24</td>\n",
       "      <td>North America</td>\n",
       "      <td>US</td>\n",
       "      <td>United States</td>\n",
       "      <td>1</td>\n",
       "      <td>0</td>\n",
       "      <td>0</td>\n",
       "      <td>0</td>\n",
       "      <td>1</td>\n",
       "      <td>0</td>\n",
       "      <td>0</td>\n",
       "      <td>0</td>\n",
       "      <td>0</td>\n",
       "    </tr>\n",
       "    <tr>\n",
       "      <th>9</th>\n",
       "      <td>2020-01-25</td>\n",
       "      <td>Oceania</td>\n",
       "      <td>AU</td>\n",
       "      <td>Australia</td>\n",
       "      <td>0</td>\n",
       "      <td>0</td>\n",
       "      <td>0</td>\n",
       "      <td>0</td>\n",
       "      <td>0</td>\n",
       "      <td>0</td>\n",
       "      <td>0</td>\n",
       "      <td>0</td>\n",
       "      <td>0</td>\n",
       "    </tr>\n",
       "    <tr>\n",
       "      <th>10</th>\n",
       "      <td>2020-01-25</td>\n",
       "      <td>Oceania</td>\n",
       "      <td>AU</td>\n",
       "      <td>Australia</td>\n",
       "      <td>3</td>\n",
       "      <td>0</td>\n",
       "      <td>0</td>\n",
       "      <td>0</td>\n",
       "      <td>0</td>\n",
       "      <td>0</td>\n",
       "      <td>0</td>\n",
       "      <td>0</td>\n",
       "      <td>0</td>\n",
       "    </tr>\n",
       "  </tbody>\n",
       "</table>\n",
       "</div>"
      ],
      "text/plain": [
       "          Date Continent_Name Two_Letter_Country_Code Country_Region  \\\n",
       "2   2020-01-22  North America                      US  United States   \n",
       "4   2020-01-23  North America                      US  United States   \n",
       "7   2020-01-24  North America                      US  United States   \n",
       "9   2020-01-25        Oceania                      AU      Australia   \n",
       "10  2020-01-25        Oceania                      AU      Australia   \n",
       "\n",
       "    positive  hospitalized  recovered  death  total_tested  active  \\\n",
       "2          1             0          0      0             1       0   \n",
       "4          1             0          0      0             1       0   \n",
       "7          1             0          0      0             1       0   \n",
       "9          0             0          0      0             0       0   \n",
       "10         3             0          0      0             0       0   \n",
       "\n",
       "    hospitalizedCurr  daily_tested  daily_positive  \n",
       "2                  0             0               0  \n",
       "4                  0             0               0  \n",
       "7                  0             0               0  \n",
       "9                  0             0               0  \n",
       "10                 0             0               0  "
      ]
     },
     "execution_count": 288,
     "metadata": {},
     "output_type": "execute_result"
    }
   ],
   "source": [
    "covid_df.head()"
   ]
  },
  {
   "cell_type": "markdown",
   "id": "f4517589",
   "metadata": {},
   "source": [
    "Using .shape method to have a better idea of the number of columns and rows of the dataframe. This means there is a total of 7,122 rows and 13 columns"
   ]
  },
  {
   "cell_type": "code",
   "execution_count": 289,
   "id": "9a1db4f4",
   "metadata": {
    "scrolled": false
   },
   "outputs": [
    {
     "data": {
      "text/plain": [
       "(7122, 13)"
      ]
     },
     "execution_count": 289,
     "metadata": {},
     "output_type": "execute_result"
    }
   ],
   "source": [
    "covid_df.shape"
   ]
  },
  {
   "cell_type": "markdown",
   "id": "97398097",
   "metadata": {},
   "source": [
    "Using .info( ) method to check if any important values are missing. However, I see that I have a complete dataframe."
   ]
  },
  {
   "cell_type": "code",
   "execution_count": 290,
   "id": "2470ace8",
   "metadata": {},
   "outputs": [
    {
     "name": "stdout",
     "output_type": "stream",
     "text": [
      "<class 'pandas.core.frame.DataFrame'>\n",
      "Int64Index: 7122 entries, 2 to 10893\n",
      "Data columns (total 13 columns):\n",
      " #   Column                   Non-Null Count  Dtype \n",
      "---  ------                   --------------  ----- \n",
      " 0   Date                     7122 non-null   object\n",
      " 1   Continent_Name           7122 non-null   object\n",
      " 2   Two_Letter_Country_Code  7122 non-null   object\n",
      " 3   Country_Region           7122 non-null   object\n",
      " 4   positive                 7122 non-null   int64 \n",
      " 5   hospitalized             7122 non-null   int64 \n",
      " 6   recovered                7122 non-null   int64 \n",
      " 7   death                    7122 non-null   int64 \n",
      " 8   total_tested             7122 non-null   int64 \n",
      " 9   active                   7122 non-null   int64 \n",
      " 10  hospitalizedCurr         7122 non-null   int64 \n",
      " 11  daily_tested             7122 non-null   int64 \n",
      " 12  daily_positive           7122 non-null   int64 \n",
      "dtypes: int64(9), object(4)\n",
      "memory usage: 779.0+ KB\n"
     ]
    }
   ],
   "source": [
    "covid_df.info()"
   ]
  },
  {
   "cell_type": "markdown",
   "id": "b9fde76f",
   "metadata": {},
   "source": [
    "Below you will see the list of all columns to determine if anything needs to be changed"
   ]
  },
  {
   "cell_type": "code",
   "execution_count": 291,
   "id": "ecc1533e",
   "metadata": {},
   "outputs": [
    {
     "data": {
      "text/plain": [
       "Index(['Date', 'Continent_Name', 'Two_Letter_Country_Code', 'Country_Region',\n",
       "       'positive', 'hospitalized', 'recovered', 'death', 'total_tested',\n",
       "       'active', 'hospitalizedCurr', 'daily_tested', 'daily_positive'],\n",
       "      dtype='object')"
      ]
     },
     "execution_count": 291,
     "metadata": {},
     "output_type": "execute_result"
    }
   ],
   "source": [
    "covid_df.columns"
   ]
  },
  {
   "cell_type": "markdown",
   "id": "88012bc2",
   "metadata": {},
   "source": [
    "Created a dictionary to change 2 column names"
   ]
  },
  {
   "cell_type": "code",
   "execution_count": 292,
   "id": "4d8d7689",
   "metadata": {},
   "outputs": [],
   "source": [
    "covid_df.rename(columns={\n",
    "    'Continent_Name': 'Continent',\n",
    "    'Two_Letter_Country_Code': 'Country_Code'\n",
    "}, inplace=True)"
   ]
  },
  {
   "cell_type": "code",
   "execution_count": 293,
   "id": "91934313",
   "metadata": {},
   "outputs": [
    {
     "data": {
      "text/plain": [
       "Index(['Date', 'Continent', 'Country_Code', 'Country_Region', 'positive',\n",
       "       'hospitalized', 'recovered', 'death', 'total_tested', 'active',\n",
       "       'hospitalizedCurr', 'daily_tested', 'daily_positive'],\n",
       "      dtype='object')"
      ]
     },
     "execution_count": 293,
     "metadata": {},
     "output_type": "execute_result"
    }
   ],
   "source": [
    "covid_df.columns"
   ]
  },
  {
   "cell_type": "markdown",
   "id": "1c0b884b",
   "metadata": {},
   "source": [
    "This list was created to capitlize the first letter of each word"
   ]
  },
  {
   "cell_type": "code",
   "execution_count": 294,
   "id": "20fc67d3",
   "metadata": {},
   "outputs": [],
   "source": [
    "covid_df.columns = ['Date', 'Continent', 'Country_Code', 'Country_Region',\n",
    "       'Positive', 'Hospitalized', 'Recovered', 'Death', 'Total_Tested',\n",
    "       'Active', 'HospitalizedCurr', 'Daily_Tested', 'Daily_Positive']"
   ]
  },
  {
   "cell_type": "code",
   "execution_count": 295,
   "id": "0da08063",
   "metadata": {},
   "outputs": [
    {
     "data": {
      "text/plain": [
       "Index(['Date', 'Continent', 'Country_Code', 'Country_Region', 'Positive',\n",
       "       'Hospitalized', 'Recovered', 'Death', 'Total_Tested', 'Active',\n",
       "       'HospitalizedCurr', 'Daily_Tested', 'Daily_Positive'],\n",
       "      dtype='object')"
      ]
     },
     "execution_count": 295,
     "metadata": {},
     "output_type": "execute_result"
    }
   ],
   "source": [
    "covid_df.columns"
   ]
  },
  {
   "cell_type": "markdown",
   "id": "7d80f33d",
   "metadata": {},
   "source": [
    "After going through this cleaning, I realized I wanted to drop some columns to make analysis easier"
   ]
  },
  {
   "cell_type": "code",
   "execution_count": 296,
   "id": "5a060ee4",
   "metadata": {},
   "outputs": [],
   "source": [
    "covid_df.drop(['Country_Code', 'Hospitalized', 'Total_Tested', 'Active', 'HospitalizedCurr', 'Daily_Tested', 'Daily_Positive'], axis=1, inplace=True )\n"
   ]
  },
  {
   "cell_type": "code",
   "execution_count": 297,
   "id": "14c323e9",
   "metadata": {},
   "outputs": [
    {
     "data": {
      "text/html": [
       "<div>\n",
       "<style scoped>\n",
       "    .dataframe tbody tr th:only-of-type {\n",
       "        vertical-align: middle;\n",
       "    }\n",
       "\n",
       "    .dataframe tbody tr th {\n",
       "        vertical-align: top;\n",
       "    }\n",
       "\n",
       "    .dataframe thead th {\n",
       "        text-align: right;\n",
       "    }\n",
       "</style>\n",
       "<table border=\"1\" class=\"dataframe\">\n",
       "  <thead>\n",
       "    <tr style=\"text-align: right;\">\n",
       "      <th></th>\n",
       "      <th>Date</th>\n",
       "      <th>Continent</th>\n",
       "      <th>Country_Region</th>\n",
       "      <th>Positive</th>\n",
       "      <th>Recovered</th>\n",
       "      <th>Death</th>\n",
       "    </tr>\n",
       "  </thead>\n",
       "  <tbody>\n",
       "    <tr>\n",
       "      <th>2</th>\n",
       "      <td>2020-01-22</td>\n",
       "      <td>North America</td>\n",
       "      <td>United States</td>\n",
       "      <td>1</td>\n",
       "      <td>0</td>\n",
       "      <td>0</td>\n",
       "    </tr>\n",
       "    <tr>\n",
       "      <th>4</th>\n",
       "      <td>2020-01-23</td>\n",
       "      <td>North America</td>\n",
       "      <td>United States</td>\n",
       "      <td>1</td>\n",
       "      <td>0</td>\n",
       "      <td>0</td>\n",
       "    </tr>\n",
       "    <tr>\n",
       "      <th>7</th>\n",
       "      <td>2020-01-24</td>\n",
       "      <td>North America</td>\n",
       "      <td>United States</td>\n",
       "      <td>1</td>\n",
       "      <td>0</td>\n",
       "      <td>0</td>\n",
       "    </tr>\n",
       "    <tr>\n",
       "      <th>9</th>\n",
       "      <td>2020-01-25</td>\n",
       "      <td>Oceania</td>\n",
       "      <td>Australia</td>\n",
       "      <td>0</td>\n",
       "      <td>0</td>\n",
       "      <td>0</td>\n",
       "    </tr>\n",
       "    <tr>\n",
       "      <th>10</th>\n",
       "      <td>2020-01-25</td>\n",
       "      <td>Oceania</td>\n",
       "      <td>Australia</td>\n",
       "      <td>3</td>\n",
       "      <td>0</td>\n",
       "      <td>0</td>\n",
       "    </tr>\n",
       "  </tbody>\n",
       "</table>\n",
       "</div>"
      ],
      "text/plain": [
       "          Date      Continent Country_Region  Positive  Recovered  Death\n",
       "2   2020-01-22  North America  United States         1          0      0\n",
       "4   2020-01-23  North America  United States         1          0      0\n",
       "7   2020-01-24  North America  United States         1          0      0\n",
       "9   2020-01-25        Oceania      Australia         0          0      0\n",
       "10  2020-01-25        Oceania      Australia         3          0      0"
      ]
     },
     "execution_count": 297,
     "metadata": {},
     "output_type": "execute_result"
    }
   ],
   "source": [
    "covid_df.head()"
   ]
  },
  {
   "cell_type": "markdown",
   "id": "aa487133",
   "metadata": {},
   "source": [
    "## Data Analysis"
   ]
  },
  {
   "cell_type": "markdown",
   "id": "5af8675e",
   "metadata": {},
   "source": [
    "Requirement 3: Analyse data"
   ]
  },
  {
   "cell_type": "code",
   "execution_count": 298,
   "id": "50773503",
   "metadata": {
    "collapsed": true
   },
   "outputs": [
    {
     "data": {
      "text/html": [
       "<div>\n",
       "<style scoped>\n",
       "    .dataframe tbody tr th:only-of-type {\n",
       "        vertical-align: middle;\n",
       "    }\n",
       "\n",
       "    .dataframe tbody tr th {\n",
       "        vertical-align: top;\n",
       "    }\n",
       "\n",
       "    .dataframe thead th {\n",
       "        text-align: right;\n",
       "    }\n",
       "</style>\n",
       "<table border=\"1\" class=\"dataframe\">\n",
       "  <thead>\n",
       "    <tr style=\"text-align: right;\">\n",
       "      <th></th>\n",
       "      <th>Positive</th>\n",
       "      <th>Recovered</th>\n",
       "      <th>Death</th>\n",
       "    </tr>\n",
       "  </thead>\n",
       "  <tbody>\n",
       "    <tr>\n",
       "      <th>count</th>\n",
       "      <td>7122.000000</td>\n",
       "      <td>7122.000000</td>\n",
       "      <td>7122.000000</td>\n",
       "    </tr>\n",
       "    <tr>\n",
       "      <th>mean</th>\n",
       "      <td>9728.641112</td>\n",
       "      <td>1717.688711</td>\n",
       "      <td>510.995928</td>\n",
       "    </tr>\n",
       "    <tr>\n",
       "      <th>std</th>\n",
       "      <td>31344.190075</td>\n",
       "      <td>6141.974108</td>\n",
       "      <td>1940.770732</td>\n",
       "    </tr>\n",
       "    <tr>\n",
       "      <th>min</th>\n",
       "      <td>0.000000</td>\n",
       "      <td>0.000000</td>\n",
       "      <td>0.000000</td>\n",
       "    </tr>\n",
       "    <tr>\n",
       "      <th>25%</th>\n",
       "      <td>29.000000</td>\n",
       "      <td>0.000000</td>\n",
       "      <td>0.000000</td>\n",
       "    </tr>\n",
       "    <tr>\n",
       "      <th>50%</th>\n",
       "      <td>697.000000</td>\n",
       "      <td>0.000000</td>\n",
       "      <td>12.000000</td>\n",
       "    </tr>\n",
       "    <tr>\n",
       "      <th>75%</th>\n",
       "      <td>6228.750000</td>\n",
       "      <td>569.500000</td>\n",
       "      <td>188.000000</td>\n",
       "    </tr>\n",
       "    <tr>\n",
       "      <th>max</th>\n",
       "      <td>370770.000000</td>\n",
       "      <td>65934.000000</td>\n",
       "      <td>23905.000000</td>\n",
       "    </tr>\n",
       "  </tbody>\n",
       "</table>\n",
       "</div>"
      ],
      "text/plain": [
       "            Positive     Recovered         Death\n",
       "count    7122.000000   7122.000000   7122.000000\n",
       "mean     9728.641112   1717.688711    510.995928\n",
       "std     31344.190075   6141.974108   1940.770732\n",
       "min         0.000000      0.000000      0.000000\n",
       "25%        29.000000      0.000000      0.000000\n",
       "50%       697.000000      0.000000     12.000000\n",
       "75%      6228.750000    569.500000    188.000000\n",
       "max    370770.000000  65934.000000  23905.000000"
      ]
     },
     "execution_count": 298,
     "metadata": {},
     "output_type": "execute_result"
    }
   ],
   "source": [
    "covid_df.describe()"
   ]
  },
  {
   "cell_type": "markdown",
   "id": "43f37a67",
   "metadata": {},
   "source": [
    "Continent column has 3 unique values, top value is North America, which shows up 6078 times. In other words, North America has the higher positive COVID-19 cases"
   ]
  },
  {
   "cell_type": "code",
   "execution_count": 299,
   "id": "560336a1",
   "metadata": {
    "scrolled": false
   },
   "outputs": [
    {
     "data": {
      "text/plain": [
       "count              7122\n",
       "unique                3\n",
       "top       North America\n",
       "freq               6078\n",
       "Name: Continent, dtype: object"
      ]
     },
     "execution_count": 299,
     "metadata": {},
     "output_type": "execute_result"
    }
   ],
   "source": [
    "covid_df['Continent'].describe()"
   ]
  },
  {
   "cell_type": "code",
   "execution_count": 300,
   "id": "fdf08520",
   "metadata": {
    "collapsed": true
   },
   "outputs": [
    {
     "data": {
      "text/html": [
       "<div>\n",
       "<style scoped>\n",
       "    .dataframe tbody tr th:only-of-type {\n",
       "        vertical-align: middle;\n",
       "    }\n",
       "\n",
       "    .dataframe tbody tr th {\n",
       "        vertical-align: top;\n",
       "    }\n",
       "\n",
       "    .dataframe thead th {\n",
       "        text-align: right;\n",
       "    }\n",
       "</style>\n",
       "<table border=\"1\" class=\"dataframe\">\n",
       "  <thead>\n",
       "    <tr style=\"text-align: right;\">\n",
       "      <th></th>\n",
       "      <th>Positive</th>\n",
       "      <th>Recovered</th>\n",
       "      <th>Death</th>\n",
       "    </tr>\n",
       "  </thead>\n",
       "  <tbody>\n",
       "    <tr>\n",
       "      <th>Positive</th>\n",
       "      <td>1.000000</td>\n",
       "      <td>0.791042</td>\n",
       "      <td>0.982478</td>\n",
       "    </tr>\n",
       "    <tr>\n",
       "      <th>Recovered</th>\n",
       "      <td>0.791042</td>\n",
       "      <td>1.000000</td>\n",
       "      <td>0.813024</td>\n",
       "    </tr>\n",
       "    <tr>\n",
       "      <th>Death</th>\n",
       "      <td>0.982478</td>\n",
       "      <td>0.813024</td>\n",
       "      <td>1.000000</td>\n",
       "    </tr>\n",
       "  </tbody>\n",
       "</table>\n",
       "</div>"
      ],
      "text/plain": [
       "           Positive  Recovered     Death\n",
       "Positive   1.000000   0.791042  0.982478\n",
       "Recovered  0.791042   1.000000  0.813024\n",
       "Death      0.982478   0.813024  1.000000"
      ]
     },
     "execution_count": 300,
     "metadata": {},
     "output_type": "execute_result"
    }
   ],
   "source": [
    "covid_df.corr()"
   ]
  },
  {
   "cell_type": "markdown",
   "id": "ad0f922e",
   "metadata": {},
   "source": [
    "Below you will the the total of positive cases, recovered cases and deaths in the United States and other countries as well."
   ]
  },
  {
   "cell_type": "markdown",
   "id": "2df45aff",
   "metadata": {},
   "source": [
    "65,531,389 positive cases inthe United States vs 3,755,993 positive cases in other countries"
   ]
  },
  {
   "cell_type": "code",
   "execution_count": 301,
   "id": "5919a887",
   "metadata": {},
   "outputs": [
    {
     "data": {
      "text/plain": [
       "65531389"
      ]
     },
     "execution_count": 301,
     "metadata": {},
     "output_type": "execute_result"
    }
   ],
   "source": [
    "US = covid_df.loc[covid_df['Country_Region'] == 'United States', 'Positive'].sum()\n",
    "US"
   ]
  },
  {
   "cell_type": "code",
   "execution_count": 302,
   "id": "3acb22ce",
   "metadata": {},
   "outputs": [
    {
     "data": {
      "text/plain": [
       "3755993"
      ]
     },
     "execution_count": 302,
     "metadata": {},
     "output_type": "execute_result"
    }
   ],
   "source": [
    "Other = covid_df.loc[covid_df['Country_Region'] != 'United States', 'Positive'].sum()\n",
    "Other"
   ]
  },
  {
   "cell_type": "markdown",
   "id": "520d25f7",
   "metadata": {},
   "source": [
    "10,548,079 recovered in United States vs 1,685,300 recovered in other countries"
   ]
  },
  {
   "cell_type": "code",
   "execution_count": 303,
   "id": "a4eb33fe",
   "metadata": {},
   "outputs": [
    {
     "data": {
      "text/plain": [
       "10548079"
      ]
     },
     "execution_count": 303,
     "metadata": {},
     "output_type": "execute_result"
    }
   ],
   "source": [
    "US = covid_df.loc[covid_df['Country_Region'] == 'United States', 'Recovered'].sum()\n",
    "US"
   ]
  },
  {
   "cell_type": "code",
   "execution_count": 304,
   "id": "71530949",
   "metadata": {
    "scrolled": true
   },
   "outputs": [
    {
     "data": {
      "text/plain": [
       "1685300"
      ]
     },
     "execution_count": 304,
     "metadata": {},
     "output_type": "execute_result"
    }
   ],
   "source": [
    "Other = covid_df.loc[covid_df['Country_Region'] != 'United States', 'Recovered'].sum()\n",
    "Other"
   ]
  },
  {
   "cell_type": "markdown",
   "id": "f0a17093",
   "metadata": {},
   "source": [
    "3,423,630 deaths happened in the United States vs 215,683 deaths in other countries"
   ]
  },
  {
   "cell_type": "code",
   "execution_count": 305,
   "id": "8ca9e61a",
   "metadata": {},
   "outputs": [
    {
     "data": {
      "text/plain": [
       "3423630"
      ]
     },
     "execution_count": 305,
     "metadata": {},
     "output_type": "execute_result"
    }
   ],
   "source": [
    "US = covid_df.loc[covid_df['Country_Region'] == 'United States', 'Death'].sum()\n",
    "US"
   ]
  },
  {
   "cell_type": "code",
   "execution_count": 306,
   "id": "e998bb76",
   "metadata": {},
   "outputs": [
    {
     "data": {
      "text/plain": [
       "215683"
      ]
     },
     "execution_count": 306,
     "metadata": {},
     "output_type": "execute_result"
    }
   ],
   "source": [
    "Other = covid_df.loc[covid_df['Country_Region'] != 'United States', 'Death'].sum()\n",
    "Other"
   ]
  },
  {
   "cell_type": "markdown",
   "id": "77b846f7",
   "metadata": {},
   "source": [
    "## Visualization"
   ]
  },
  {
   "cell_type": "markdown",
   "id": "89dfabe2",
   "metadata": {},
   "source": [
    "Requirement 4 and 5: Visualize data and interpret data"
   ]
  },
  {
   "cell_type": "markdown",
   "id": "a9661a71",
   "metadata": {},
   "source": [
    "As seen below, there is Positive cases in the United States were extremely high in comparison to other countries. However, one thing to notice is that although many people recovered from COVID-19, there is a huge gap between positive cases and recovered cases. \n",
    "\n",
    "After further research, I came across an article that was mentioned in Kaggle, where I got the dataframe from, where the author mentions that positive cases are meaningless without understanding testing. Furthermore, there is a chance that not all who tested positive followed up with the testing facility after their quarantine time to see if they were still testing positive or if they would test negative.\n",
    "\n",
    "In addition to all of this, positive cases were very high in the United States since testing was more available here in comparison to other countries.\n",
    "\n",
    "Source:https://fivethirtyeight.com/features/coronavirus-case-counts-are-meaningless/"
   ]
  },
  {
   "cell_type": "code",
   "execution_count": 307,
   "id": "bf98ee19",
   "metadata": {},
   "outputs": [
    {
     "data": {
      "image/png": "[encoded data removed]",
      "text/plain": [
       "<Figure size 640x480 with 1 Axes>"
      ]
     },
     "metadata": {},
     "output_type": "display_data"
    }
   ],
   "source": [
    "US = {'Cases' : ['Postive', 'Recovered', 'Deaths'],\n",
    "    'In Millions' : [65531389, 10548079, 3423630]}\n",
    "data = pd.DataFrame(US)\n",
    "data.plot(kind='bar', x='Cases', title = 'COVID-19 Cases in The United States', colormap = 'viridis');\n"
   ]
  },
  {
   "cell_type": "code",
   "execution_count": 308,
   "id": "8082c463",
   "metadata": {},
   "outputs": [
    {
     "data": {
      "image/png": "[encoded data removed]",
      "text/plain": [
       "<Figure size 640x480 with 1 Axes>"
      ]
     },
     "metadata": {},
     "output_type": "display_data"
    }
   ],
   "source": [
    "Other = {'Cases' : ['Postive', 'Recovered', 'Deaths'],\n",
    "    'In Millions' : [3755993, 1685300, 215683]}\n",
    "data = pd.DataFrame(Other)\n",
    "data.plot(kind='bar', x='Cases', title = 'COVID-19 Cases in All Countries Not Inclusing US', colormap = 'viridis');\n"
   ]
  },
  {
   "cell_type": "code",
   "execution_count": 309,
   "id": "db16ac65",
   "metadata": {},
   "outputs": [
    {
     "data": {
      "image/png": "[encoded data removed]",
      "text/plain": [
       "<Figure size 640x480 with 1 Axes>"
      ]
     },
     "metadata": {},
     "output_type": "display_data"
    }
   ],
   "source": [
    "All = {'Cases' : ['Postive', 'Recovered', 'Deaths'],\n",
    "    'United States' : [65531389, 10548079, 3423630],\n",
    "        'Others' : [3755993, 1685300, 215683]}\n",
    "data = pd.DataFrame(All)\n",
    "data.plot(kind='bar', x='Cases', title = 'Comparison of COVID-19 in the US vs Worldwide', colormap = 'viridis');"
   ]
  }
 ],
 "metadata": {
  "kernelspec": {
   "display_name": "Python 3 (ipykernel)",
   "language": "python",
   "name": "python3"
  },
  "language_info": {
   "codemirror_mode": {
    "name": "ipython",
    "version": 3
   },
   "file_extension": ".py",
   "mimetype": "text/x-python",
   "name": "python",
   "nbconvert_exporter": "python",
   "pygments_lexer": "ipython3",
   "version": "3.9.13"
  },
  "vscode": {
   "interpreter": {
    "hash": "aee8b7b246df8f9039afb4144a1f6fd8d2ca17a180786b69acc140d282b71a49"
   }
  }
 },
 "nbformat": 4,
 "nbformat_minor": 5
}
