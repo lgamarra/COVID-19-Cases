{
 "cells": [
  {
   "cell_type": "markdown",
   "id": "9e2c792e",
   "metadata": {},
   "source": [
    "# COVID-19 Cases in The United States vs Worldwide"
   ]
  },
  {
   "cell_type": "markdown",
   "id": "51c17fa3",
   "metadata": {},
   "source": [
    "![title](image.png)"
   ]
  },
  {
   "cell_type": "markdown",
   "id": "22d78677",
   "metadata": {},
   "source": [
    "The data being reviewed for this project shows COVID-19 cases worldwide from January 20, 2020 through June 1, 2020. However, this data analysis project does a comparison of positive case in the United States with other countries.\n",
    "\n",
    "The main comparisons are:\n",
    "- Positive cases in the US and Worldwide\n",
    "- Recovered cases in the US and Worldwide\n",
    "- Deaths in the US and Worldwide\n",
    "\n",
    "After doing the analysis, I came to the conclusion that positive cases in the United States were significantly higher than all countries combined. However, testing was widely available in the United States in comparison to the rest of the world at the beginning of the pandemic. In addition, while \"Positive\" cases were a lot higher than \"Recovered\" cases, the analyst that initially studied the data referred other analysts to an article from Nate Silver with Five Thirty Eight about how positive COVID-19 cases need to be taken with a grain of salt.\n",
    "\n",
    "Original dataset:\n",
    "https://www.kaggle.com/datasets/lin0li/covid19testing\n",
    "\n",
    "Additional Source:\n",
    "https://fivethirtyeight.com/features/coronavirus-case-counts-are-meaningless/\n",
    "\n",
    "* This data analysis is my final project for Code Louisville - Data Analysis 1"
   ]
  },
  {
   "cell_type": "markdown",
   "id": "b0b76be0",
   "metadata": {},
   "source": [
    "## Importing data to notebook"
   ]
  },
  {
   "cell_type": "markdown",
   "id": "a7bdeb07",
   "metadata": {},
   "source": [
    "Requirement 1: Read in data"
   ]
  },
  {
   "cell_type": "code",
   "execution_count": 69,
   "id": "ea99531f",
   "metadata": {
    "scrolled": true
   },
   "outputs": [],
   "source": [
    "import pandas as pd\n",
    "import numpy as np\n",
    "import matplotlib.pyplot as plt"
   ]
  },
  {
   "cell_type": "code",
   "execution_count": 70,
   "id": "b29bc66e",
   "metadata": {},
   "outputs": [],
   "source": [
    "covid_df = pd.read_csv('covid19.csv')"
   ]
  },
  {
   "cell_type": "markdown",
   "id": "aa4efdb7",
   "metadata": {},
   "source": [
    "## Data Cleaning Process"
   ]
  },
  {
   "cell_type": "markdown",
   "id": "e65cea74",
   "metadata": {},
   "source": [
    "Requirement 2: Manipulate and clean data"
   ]
  },
  {
   "cell_type": "markdown",
   "id": "e9036d24",
   "metadata": {},
   "source": [
    "Using .head( ) and .tail( ) methods to make sure all dataframe is being imported"
   ]
  },
  {
   "cell_type": "code",
   "execution_count": 71,
   "id": "e67d1280",
   "metadata": {},
   "outputs": [
    {
     "data": {
      "text/html": [
       "<div>\n",
       "<style scoped>\n",
       "    .dataframe tbody tr th:only-of-type {\n",
       "        vertical-align: middle;\n",
       "    }\n",
       "\n",
       "    .dataframe tbody tr th {\n",
       "        vertical-align: top;\n",
       "    }\n",
       "\n",
       "    .dataframe thead th {\n",
       "        text-align: right;\n",
       "    }\n",
       "</style>\n",
       "<table border=\"1\" class=\"dataframe\">\n",
       "  <thead>\n",
       "    <tr style=\"text-align: right;\">\n",
       "      <th></th>\n",
       "      <th>Date</th>\n",
       "      <th>Continent_Name</th>\n",
       "      <th>Two_Letter_Country_Code</th>\n",
       "      <th>Country_Region</th>\n",
       "      <th>Province_State</th>\n",
       "      <th>positive</th>\n",
       "      <th>hospitalized</th>\n",
       "      <th>recovered</th>\n",
       "      <th>death</th>\n",
       "      <th>total_tested</th>\n",
       "      <th>active</th>\n",
       "      <th>hospitalizedCurr</th>\n",
       "      <th>daily_tested</th>\n",
       "      <th>daily_positive</th>\n",
       "    </tr>\n",
       "  </thead>\n",
       "  <tbody>\n",
       "    <tr>\n",
       "      <th>0</th>\n",
       "      <td>2020-01-20</td>\n",
       "      <td>Asia</td>\n",
       "      <td>KR</td>\n",
       "      <td>South Korea</td>\n",
       "      <td>All States</td>\n",
       "      <td>1</td>\n",
       "      <td>0</td>\n",
       "      <td>0</td>\n",
       "      <td>0</td>\n",
       "      <td>4</td>\n",
       "      <td>0</td>\n",
       "      <td>0</td>\n",
       "      <td>0</td>\n",
       "      <td>0</td>\n",
       "    </tr>\n",
       "    <tr>\n",
       "      <th>1</th>\n",
       "      <td>2020-01-22</td>\n",
       "      <td>North America</td>\n",
       "      <td>US</td>\n",
       "      <td>United States</td>\n",
       "      <td>All States</td>\n",
       "      <td>1</td>\n",
       "      <td>0</td>\n",
       "      <td>0</td>\n",
       "      <td>0</td>\n",
       "      <td>1</td>\n",
       "      <td>0</td>\n",
       "      <td>0</td>\n",
       "      <td>0</td>\n",
       "      <td>0</td>\n",
       "    </tr>\n",
       "    <tr>\n",
       "      <th>2</th>\n",
       "      <td>2020-01-22</td>\n",
       "      <td>North America</td>\n",
       "      <td>US</td>\n",
       "      <td>United States</td>\n",
       "      <td>Washington</td>\n",
       "      <td>1</td>\n",
       "      <td>0</td>\n",
       "      <td>0</td>\n",
       "      <td>0</td>\n",
       "      <td>1</td>\n",
       "      <td>0</td>\n",
       "      <td>0</td>\n",
       "      <td>0</td>\n",
       "      <td>0</td>\n",
       "    </tr>\n",
       "    <tr>\n",
       "      <th>3</th>\n",
       "      <td>2020-01-23</td>\n",
       "      <td>North America</td>\n",
       "      <td>US</td>\n",
       "      <td>United States</td>\n",
       "      <td>All States</td>\n",
       "      <td>1</td>\n",
       "      <td>0</td>\n",
       "      <td>0</td>\n",
       "      <td>0</td>\n",
       "      <td>1</td>\n",
       "      <td>0</td>\n",
       "      <td>0</td>\n",
       "      <td>0</td>\n",
       "      <td>0</td>\n",
       "    </tr>\n",
       "    <tr>\n",
       "      <th>4</th>\n",
       "      <td>2020-01-23</td>\n",
       "      <td>North America</td>\n",
       "      <td>US</td>\n",
       "      <td>United States</td>\n",
       "      <td>Washington</td>\n",
       "      <td>1</td>\n",
       "      <td>0</td>\n",
       "      <td>0</td>\n",
       "      <td>0</td>\n",
       "      <td>1</td>\n",
       "      <td>0</td>\n",
       "      <td>0</td>\n",
       "      <td>0</td>\n",
       "      <td>0</td>\n",
       "    </tr>\n",
       "  </tbody>\n",
       "</table>\n",
       "</div>"
      ],
      "text/plain": [
       "         Date Continent_Name Two_Letter_Country_Code Country_Region  \\\n",
       "0  2020-01-20           Asia                      KR    South Korea   \n",
       "1  2020-01-22  North America                      US  United States   \n",
       "2  2020-01-22  North America                      US  United States   \n",
       "3  2020-01-23  North America                      US  United States   \n",
       "4  2020-01-23  North America                      US  United States   \n",
       "\n",
       "  Province_State  positive  hospitalized  recovered  death  total_tested  \\\n",
       "0     All States         1             0          0      0             4   \n",
       "1     All States         1             0          0      0             1   \n",
       "2     Washington         1             0          0      0             1   \n",
       "3     All States         1             0          0      0             1   \n",
       "4     Washington         1             0          0      0             1   \n",
       "\n",
       "   active  hospitalizedCurr  daily_tested  daily_positive  \n",
       "0       0                 0             0               0  \n",
       "1       0                 0             0               0  \n",
       "2       0                 0             0               0  \n",
       "3       0                 0             0               0  \n",
       "4       0                 0             0               0  "
      ]
     },
     "execution_count": 71,
     "metadata": {},
     "output_type": "execute_result"
    }
   ],
   "source": [
    "covid_df.head()"
   ]
  },
  {
   "cell_type": "code",
   "execution_count": 72,
   "id": "8c1d6e65",
   "metadata": {},
   "outputs": [
    {
     "data": {
      "text/html": [
       "<div>\n",
       "<style scoped>\n",
       "    .dataframe tbody tr th:only-of-type {\n",
       "        vertical-align: middle;\n",
       "    }\n",
       "\n",
       "    .dataframe tbody tr th {\n",
       "        vertical-align: top;\n",
       "    }\n",
       "\n",
       "    .dataframe thead th {\n",
       "        text-align: right;\n",
       "    }\n",
       "</style>\n",
       "<table border=\"1\" class=\"dataframe\">\n",
       "  <thead>\n",
       "    <tr style=\"text-align: right;\">\n",
       "      <th></th>\n",
       "      <th>Date</th>\n",
       "      <th>Continent_Name</th>\n",
       "      <th>Two_Letter_Country_Code</th>\n",
       "      <th>Country_Region</th>\n",
       "      <th>Province_State</th>\n",
       "      <th>positive</th>\n",
       "      <th>hospitalized</th>\n",
       "      <th>recovered</th>\n",
       "      <th>death</th>\n",
       "      <th>total_tested</th>\n",
       "      <th>active</th>\n",
       "      <th>hospitalizedCurr</th>\n",
       "      <th>daily_tested</th>\n",
       "      <th>daily_positive</th>\n",
       "    </tr>\n",
       "  </thead>\n",
       "  <tbody>\n",
       "    <tr>\n",
       "      <th>10901</th>\n",
       "      <td>2020-06-01</td>\n",
       "      <td>Asia</td>\n",
       "      <td>TW</td>\n",
       "      <td>Taiwan</td>\n",
       "      <td>All States</td>\n",
       "      <td>0</td>\n",
       "      <td>0</td>\n",
       "      <td>0</td>\n",
       "      <td>0</td>\n",
       "      <td>72319</td>\n",
       "      <td>0</td>\n",
       "      <td>0</td>\n",
       "      <td>237</td>\n",
       "      <td>0</td>\n",
       "    </tr>\n",
       "    <tr>\n",
       "      <th>10902</th>\n",
       "      <td>2020-06-01</td>\n",
       "      <td>Asia</td>\n",
       "      <td>VN</td>\n",
       "      <td>Vietnam</td>\n",
       "      <td>All States</td>\n",
       "      <td>0</td>\n",
       "      <td>0</td>\n",
       "      <td>0</td>\n",
       "      <td>0</td>\n",
       "      <td>261004</td>\n",
       "      <td>0</td>\n",
       "      <td>0</td>\n",
       "      <td>0</td>\n",
       "      <td>0</td>\n",
       "    </tr>\n",
       "  </tbody>\n",
       "</table>\n",
       "</div>"
      ],
      "text/plain": [
       "             Date Continent_Name Two_Letter_Country_Code Country_Region  \\\n",
       "10901  2020-06-01           Asia                      TW         Taiwan   \n",
       "10902  2020-06-01           Asia                      VN        Vietnam   \n",
       "\n",
       "      Province_State  positive  hospitalized  recovered  death  total_tested  \\\n",
       "10901     All States         0             0          0      0         72319   \n",
       "10902     All States         0             0          0      0        261004   \n",
       "\n",
       "       active  hospitalizedCurr  daily_tested  daily_positive  \n",
       "10901       0                 0           237               0  \n",
       "10902       0                 0             0               0  "
      ]
     },
     "execution_count": 72,
     "metadata": {},
     "output_type": "execute_result"
    }
   ],
   "source": [
    "covid_df.tail(2)"
   ]
  },
  {
   "cell_type": "markdown",
   "id": "f4517589",
   "metadata": {},
   "source": [
    "Using .shape method to have a better idea of the number of columns and rows of the dataframe. This means there is a total of 10,903 rowns and 14 columns"
   ]
  },
  {
   "cell_type": "code",
   "execution_count": 73,
   "id": "9a1db4f4",
   "metadata": {
    "scrolled": false
   },
   "outputs": [
    {
     "data": {
      "text/plain": [
       "(10903, 14)"
      ]
     },
     "execution_count": 73,
     "metadata": {},
     "output_type": "execute_result"
    }
   ],
   "source": [
    "covid_df.shape"
   ]
  },
  {
   "cell_type": "markdown",
   "id": "97398097",
   "metadata": {},
   "source": [
    "Using .info( ) method to check if any important values are missing. However, I see that I have a complete dataframe."
   ]
  },
  {
   "cell_type": "code",
   "execution_count": 74,
   "id": "2470ace8",
   "metadata": {},
   "outputs": [
    {
     "name": "stdout",
     "output_type": "stream",
     "text": [
      "<class 'pandas.core.frame.DataFrame'>\n",
      "RangeIndex: 10903 entries, 0 to 10902\n",
      "Data columns (total 14 columns):\n",
      " #   Column                   Non-Null Count  Dtype \n",
      "---  ------                   --------------  ----- \n",
      " 0   Date                     10903 non-null  object\n",
      " 1   Continent_Name           10903 non-null  object\n",
      " 2   Two_Letter_Country_Code  10903 non-null  object\n",
      " 3   Country_Region           10903 non-null  object\n",
      " 4   Province_State           10903 non-null  object\n",
      " 5   positive                 10903 non-null  int64 \n",
      " 6   hospitalized             10903 non-null  int64 \n",
      " 7   recovered                10903 non-null  int64 \n",
      " 8   death                    10903 non-null  int64 \n",
      " 9   total_tested             10903 non-null  int64 \n",
      " 10  active                   10903 non-null  int64 \n",
      " 11  hospitalizedCurr         10903 non-null  int64 \n",
      " 12  daily_tested             10903 non-null  int64 \n",
      " 13  daily_positive           10903 non-null  int64 \n",
      "dtypes: int64(9), object(5)\n",
      "memory usage: 1.2+ MB\n"
     ]
    }
   ],
   "source": [
    "covid_df.info()"
   ]
  },
  {
   "cell_type": "markdown",
   "id": "b9fde76f",
   "metadata": {},
   "source": [
    "Below you will see the list of all columns to determine if anything needs to be changed"
   ]
  },
  {
   "cell_type": "code",
   "execution_count": 75,
   "id": "ecc1533e",
   "metadata": {},
   "outputs": [
    {
     "data": {
      "text/plain": [
       "Index(['Date', 'Continent_Name', 'Two_Letter_Country_Code', 'Country_Region',\n",
       "       'Province_State', 'positive', 'hospitalized', 'recovered', 'death',\n",
       "       'total_tested', 'active', 'hospitalizedCurr', 'daily_tested',\n",
       "       'daily_positive'],\n",
       "      dtype='object')"
      ]
     },
     "execution_count": 75,
     "metadata": {},
     "output_type": "execute_result"
    }
   ],
   "source": [
    "covid_df.columns"
   ]
  },
  {
   "cell_type": "markdown",
   "id": "88012bc2",
   "metadata": {},
   "source": [
    "Created a dictionary to change 3 column names"
   ]
  },
  {
   "cell_type": "code",
   "execution_count": 76,
   "id": "4d8d7689",
   "metadata": {},
   "outputs": [],
   "source": [
    "covid_df.rename(columns={\n",
    "    'Continent_Name': 'Continent',\n",
    "    'Two_Letter_Country_Code': 'Country_Code',\n",
    "    'Province_State': 'State'\n",
    "}, inplace=True)"
   ]
  },
  {
   "cell_type": "code",
   "execution_count": 77,
   "id": "91934313",
   "metadata": {},
   "outputs": [
    {
     "data": {
      "text/plain": [
       "Index(['Date', 'Continent', 'Country_Code', 'Country_Region', 'State',\n",
       "       'positive', 'hospitalized', 'recovered', 'death', 'total_tested',\n",
       "       'active', 'hospitalizedCurr', 'daily_tested', 'daily_positive'],\n",
       "      dtype='object')"
      ]
     },
     "execution_count": 77,
     "metadata": {},
     "output_type": "execute_result"
    }
   ],
   "source": [
    "covid_df.columns"
   ]
  },
  {
   "cell_type": "markdown",
   "id": "1c0b884b",
   "metadata": {},
   "source": [
    "This list was created to capitlize the first letter of each word"
   ]
  },
  {
   "cell_type": "code",
   "execution_count": 78,
   "id": "20fc67d3",
   "metadata": {},
   "outputs": [],
   "source": [
    "covid_df.columns = ['Date', 'Continent', 'Country_Code', 'Country_Region', 'State',\n",
    "       'Positive', 'Hospitalized', 'Recovered', 'Death', 'Total_Tested',\n",
    "       'Active', 'HospitalizedCurr', 'Daily_Tested', 'Daily_Positive']"
   ]
  },
  {
   "cell_type": "code",
   "execution_count": 79,
   "id": "0da08063",
   "metadata": {},
   "outputs": [
    {
     "data": {
      "text/plain": [
       "Index(['Date', 'Continent', 'Country_Code', 'Country_Region', 'State',\n",
       "       'Positive', 'Hospitalized', 'Recovered', 'Death', 'Total_Tested',\n",
       "       'Active', 'HospitalizedCurr', 'Daily_Tested', 'Daily_Positive'],\n",
       "      dtype='object')"
      ]
     },
     "execution_count": 79,
     "metadata": {},
     "output_type": "execute_result"
    }
   ],
   "source": [
    "covid_df.columns"
   ]
  },
  {
   "cell_type": "markdown",
   "id": "7d80f33d",
   "metadata": {},
   "source": [
    "After going through this cleaning, I realized I wanted to drop some columns to make analyzis easier"
   ]
  },
  {
   "cell_type": "code",
   "execution_count": 80,
   "id": "5a060ee4",
   "metadata": {},
   "outputs": [],
   "source": [
    "covid_df.drop(['Country_Code', 'State', 'Hospitalized', 'Total_Tested', 'Active', 'HospitalizedCurr', 'Daily_Tested', 'Daily_Positive'], axis=1, inplace=True )\n"
   ]
  },
  {
   "cell_type": "code",
   "execution_count": 81,
   "id": "04dad942",
   "metadata": {},
   "outputs": [
    {
     "data": {
      "text/html": [
       "<div>\n",
       "<style scoped>\n",
       "    .dataframe tbody tr th:only-of-type {\n",
       "        vertical-align: middle;\n",
       "    }\n",
       "\n",
       "    .dataframe tbody tr th {\n",
       "        vertical-align: top;\n",
       "    }\n",
       "\n",
       "    .dataframe thead th {\n",
       "        text-align: right;\n",
       "    }\n",
       "</style>\n",
       "<table border=\"1\" class=\"dataframe\">\n",
       "  <thead>\n",
       "    <tr style=\"text-align: right;\">\n",
       "      <th></th>\n",
       "      <th>Date</th>\n",
       "      <th>Continent</th>\n",
       "      <th>Country_Region</th>\n",
       "      <th>Positive</th>\n",
       "      <th>Recovered</th>\n",
       "      <th>Death</th>\n",
       "    </tr>\n",
       "  </thead>\n",
       "  <tbody>\n",
       "    <tr>\n",
       "      <th>0</th>\n",
       "      <td>2020-01-20</td>\n",
       "      <td>Asia</td>\n",
       "      <td>South Korea</td>\n",
       "      <td>1</td>\n",
       "      <td>0</td>\n",
       "      <td>0</td>\n",
       "    </tr>\n",
       "    <tr>\n",
       "      <th>1</th>\n",
       "      <td>2020-01-22</td>\n",
       "      <td>North America</td>\n",
       "      <td>United States</td>\n",
       "      <td>1</td>\n",
       "      <td>0</td>\n",
       "      <td>0</td>\n",
       "    </tr>\n",
       "    <tr>\n",
       "      <th>2</th>\n",
       "      <td>2020-01-22</td>\n",
       "      <td>North America</td>\n",
       "      <td>United States</td>\n",
       "      <td>1</td>\n",
       "      <td>0</td>\n",
       "      <td>0</td>\n",
       "    </tr>\n",
       "    <tr>\n",
       "      <th>3</th>\n",
       "      <td>2020-01-23</td>\n",
       "      <td>North America</td>\n",
       "      <td>United States</td>\n",
       "      <td>1</td>\n",
       "      <td>0</td>\n",
       "      <td>0</td>\n",
       "    </tr>\n",
       "    <tr>\n",
       "      <th>4</th>\n",
       "      <td>2020-01-23</td>\n",
       "      <td>North America</td>\n",
       "      <td>United States</td>\n",
       "      <td>1</td>\n",
       "      <td>0</td>\n",
       "      <td>0</td>\n",
       "    </tr>\n",
       "  </tbody>\n",
       "</table>\n",
       "</div>"
      ],
      "text/plain": [
       "         Date      Continent Country_Region  Positive  Recovered  Death\n",
       "0  2020-01-20           Asia    South Korea         1          0      0\n",
       "1  2020-01-22  North America  United States         1          0      0\n",
       "2  2020-01-22  North America  United States         1          0      0\n",
       "3  2020-01-23  North America  United States         1          0      0\n",
       "4  2020-01-23  North America  United States         1          0      0"
      ]
     },
     "execution_count": 81,
     "metadata": {},
     "output_type": "execute_result"
    }
   ],
   "source": [
    "covid_df.head()"
   ]
  },
  {
   "cell_type": "markdown",
   "id": "aa487133",
   "metadata": {},
   "source": [
    "## Data Analysis"
   ]
  },
  {
   "cell_type": "markdown",
   "id": "6b265538",
   "metadata": {},
   "source": [
    "Requirement 3: Analyze data"
   ]
  },
  {
   "cell_type": "code",
   "execution_count": 82,
   "id": "50773503",
   "metadata": {
    "collapsed": true
   },
   "outputs": [
    {
     "data": {
      "text/html": [
       "<div>\n",
       "<style scoped>\n",
       "    .dataframe tbody tr th:only-of-type {\n",
       "        vertical-align: middle;\n",
       "    }\n",
       "\n",
       "    .dataframe tbody tr th {\n",
       "        vertical-align: top;\n",
       "    }\n",
       "\n",
       "    .dataframe thead th {\n",
       "        text-align: right;\n",
       "    }\n",
       "</style>\n",
       "<table border=\"1\" class=\"dataframe\">\n",
       "  <thead>\n",
       "    <tr style=\"text-align: right;\">\n",
       "      <th></th>\n",
       "      <th>Positive</th>\n",
       "      <th>Recovered</th>\n",
       "      <th>Death</th>\n",
       "    </tr>\n",
       "  </thead>\n",
       "  <tbody>\n",
       "    <tr>\n",
       "      <th>count</th>\n",
       "      <td>1.090300e+04</td>\n",
       "      <td>10903.000000</td>\n",
       "      <td>10903.000000</td>\n",
       "    </tr>\n",
       "    <tr>\n",
       "      <th>mean</th>\n",
       "      <td>1.776802e+04</td>\n",
       "      <td>2409.220490</td>\n",
       "      <td>947.592956</td>\n",
       "    </tr>\n",
       "    <tr>\n",
       "      <th>std</th>\n",
       "      <td>9.314346e+04</td>\n",
       "      <td>11254.209177</td>\n",
       "      <td>5507.242206</td>\n",
       "    </tr>\n",
       "    <tr>\n",
       "      <th>min</th>\n",
       "      <td>0.000000e+00</td>\n",
       "      <td>0.000000</td>\n",
       "      <td>0.000000</td>\n",
       "    </tr>\n",
       "    <tr>\n",
       "      <th>25%</th>\n",
       "      <td>4.400000e+01</td>\n",
       "      <td>0.000000</td>\n",
       "      <td>0.000000</td>\n",
       "    </tr>\n",
       "    <tr>\n",
       "      <th>50%</th>\n",
       "      <td>1.026000e+03</td>\n",
       "      <td>0.000000</td>\n",
       "      <td>6.000000</td>\n",
       "    </tr>\n",
       "    <tr>\n",
       "      <th>75%</th>\n",
       "      <td>7.440000e+03</td>\n",
       "      <td>500.500000</td>\n",
       "      <td>136.000000</td>\n",
       "    </tr>\n",
       "    <tr>\n",
       "      <th>max</th>\n",
       "      <td>1.783570e+06</td>\n",
       "      <td>171883.000000</td>\n",
       "      <td>98536.000000</td>\n",
       "    </tr>\n",
       "  </tbody>\n",
       "</table>\n",
       "</div>"
      ],
      "text/plain": [
       "           Positive      Recovered         Death\n",
       "count  1.090300e+04   10903.000000  10903.000000\n",
       "mean   1.776802e+04    2409.220490    947.592956\n",
       "std    9.314346e+04   11254.209177   5507.242206\n",
       "min    0.000000e+00       0.000000      0.000000\n",
       "25%    4.400000e+01       0.000000      0.000000\n",
       "50%    1.026000e+03       0.000000      6.000000\n",
       "75%    7.440000e+03     500.500000    136.000000\n",
       "max    1.783570e+06  171883.000000  98536.000000"
      ]
     },
     "execution_count": 82,
     "metadata": {},
     "output_type": "execute_result"
    }
   ],
   "source": [
    "covid_df.describe()"
   ]
  },
  {
   "cell_type": "markdown",
   "id": "43f37a67",
   "metadata": {},
   "source": [
    "Continent Column has 6 unique values, top value is North America, which shows up 6452 times. In other words, North America has the higher positive COVID-19 cases"
   ]
  },
  {
   "cell_type": "code",
   "execution_count": 83,
   "id": "560336a1",
   "metadata": {
    "scrolled": false
   },
   "outputs": [
    {
     "data": {
      "text/plain": [
       "count             10903\n",
       "unique                6\n",
       "top       North America\n",
       "freq               6452\n",
       "Name: Continent, dtype: object"
      ]
     },
     "execution_count": 83,
     "metadata": {},
     "output_type": "execute_result"
    }
   ],
   "source": [
    "covid_df['Continent'].describe()"
   ]
  },
  {
   "cell_type": "code",
   "execution_count": 84,
   "id": "fdf08520",
   "metadata": {
    "collapsed": true
   },
   "outputs": [
    {
     "data": {
      "text/html": [
       "<div>\n",
       "<style scoped>\n",
       "    .dataframe tbody tr th:only-of-type {\n",
       "        vertical-align: middle;\n",
       "    }\n",
       "\n",
       "    .dataframe tbody tr th {\n",
       "        vertical-align: top;\n",
       "    }\n",
       "\n",
       "    .dataframe thead th {\n",
       "        text-align: right;\n",
       "    }\n",
       "</style>\n",
       "<table border=\"1\" class=\"dataframe\">\n",
       "  <thead>\n",
       "    <tr style=\"text-align: right;\">\n",
       "      <th></th>\n",
       "      <th>Positive</th>\n",
       "      <th>Recovered</th>\n",
       "      <th>Death</th>\n",
       "    </tr>\n",
       "  </thead>\n",
       "  <tbody>\n",
       "    <tr>\n",
       "      <th>Positive</th>\n",
       "      <td>1.000000</td>\n",
       "      <td>0.274848</td>\n",
       "      <td>0.927603</td>\n",
       "    </tr>\n",
       "    <tr>\n",
       "      <th>Recovered</th>\n",
       "      <td>0.274848</td>\n",
       "      <td>1.000000</td>\n",
       "      <td>0.330940</td>\n",
       "    </tr>\n",
       "    <tr>\n",
       "      <th>Death</th>\n",
       "      <td>0.927603</td>\n",
       "      <td>0.330940</td>\n",
       "      <td>1.000000</td>\n",
       "    </tr>\n",
       "  </tbody>\n",
       "</table>\n",
       "</div>"
      ],
      "text/plain": [
       "           Positive  Recovered     Death\n",
       "Positive   1.000000   0.274848  0.927603\n",
       "Recovered  0.274848   1.000000  0.330940\n",
       "Death      0.927603   0.330940  1.000000"
      ]
     },
     "execution_count": 84,
     "metadata": {},
     "output_type": "execute_result"
    }
   ],
   "source": [
    "covid_df.corr()"
   ]
  },
  {
   "cell_type": "code",
   "execution_count": 86,
   "id": "5919a887",
   "metadata": {},
   "outputs": [
    {
     "data": {
      "text/plain": [
       "133567277"
      ]
     },
     "execution_count": 86,
     "metadata": {},
     "output_type": "execute_result"
    }
   ],
   "source": [
    "US = covid_df.loc[covid_df['Country_Region'] == 'United States', 'Positive'].sum()\n",
    "US"
   ]
  },
  {
   "cell_type": "code",
   "execution_count": 87,
   "id": "1469138b",
   "metadata": {},
   "outputs": [
    {
     "data": {
      "text/plain": [
       "60157398"
      ]
     },
     "execution_count": 87,
     "metadata": {},
     "output_type": "execute_result"
    }
   ],
   "source": [
    "Other = covid_df.loc[covid_df['Country_Region'] != 'United States', 'Positive'].sum()\n",
    "Other"
   ]
  },
  {
   "cell_type": "markdown",
   "id": "fd0b5ed9",
   "metadata": {},
   "source": [
    "Recovered in US vs rest of the world"
   ]
  },
  {
   "cell_type": "code",
   "execution_count": 88,
   "id": "fbcfeafb",
   "metadata": {},
   "outputs": [
    {
     "data": {
      "text/plain": [
       "10548079"
      ]
     },
     "execution_count": 88,
     "metadata": {},
     "output_type": "execute_result"
    }
   ],
   "source": [
    "US = covid_df.loc[covid_df['Country_Region'] == 'United States', 'Recovered'].sum()\n",
    "US"
   ]
  },
  {
   "cell_type": "code",
   "execution_count": 89,
   "id": "c7fc5231",
   "metadata": {
    "scrolled": true
   },
   "outputs": [
    {
     "data": {
      "text/plain": [
       "15719652"
      ]
     },
     "execution_count": 89,
     "metadata": {},
     "output_type": "execute_result"
    }
   ],
   "source": [
    "Other = covid_df.loc[covid_df['Country_Region'] != 'United States', 'Recovered'].sum()\n",
    "Other"
   ]
  },
  {
   "cell_type": "markdown",
   "id": "7ba7fd6b",
   "metadata": {},
   "source": [
    "Deaths happened in US vs rest of the world"
   ]
  },
  {
   "cell_type": "code",
   "execution_count": 90,
   "id": "8ca9e61a",
   "metadata": {},
   "outputs": [
    {
     "data": {
      "text/plain": [
       "6808745"
      ]
     },
     "execution_count": 90,
     "metadata": {},
     "output_type": "execute_result"
    }
   ],
   "source": [
    "US = covid_df.loc[covid_df['Country_Region'] == 'United States', 'Death'].sum()\n",
    "US"
   ]
  },
  {
   "cell_type": "code",
   "execution_count": 91,
   "id": "5298e324",
   "metadata": {},
   "outputs": [
    {
     "data": {
      "text/plain": [
       "3522861"
      ]
     },
     "execution_count": 91,
     "metadata": {},
     "output_type": "execute_result"
    }
   ],
   "source": [
    "Other = covid_df.loc[covid_df['Country_Region'] != 'United States', 'Death'].sum()\n",
    "Other"
   ]
  },
  {
   "cell_type": "markdown",
   "id": "adbe8fd3",
   "metadata": {},
   "source": [
    "## Visualization"
   ]
  },
  {
   "cell_type": "markdown",
   "id": "a4c86d09",
   "metadata": {},
   "source": [
    "Requirement 4 and 5: Visualize data and interpret data"
   ]
  },
  {
   "cell_type": "code",
   "execution_count": 92,
   "id": "bf92527d",
   "metadata": {},
   "outputs": [
    {
     "data": {
      "image/png": "[encoded data removed]",
      "text/plain": [
       "<Figure size 640x480 with 1 Axes>"
      ]
     },
     "metadata": {},
     "output_type": "display_data"
    }
   ],
   "source": [
    "US = {'Cases' : ['Postive', 'Recovered', 'Deaths'],\n",
    "    'In Millions' : [133567277, 10548079, 6808745]}\n",
    "data = pd.DataFrame(US)\n",
    "data.plot(kind='bar', x='Cases', title = 'COVID-19 Cases in The United States', colormap = 'viridis');\n"
   ]
  },
  {
   "cell_type": "code",
   "execution_count": 96,
   "id": "6ec94417",
   "metadata": {},
   "outputs": [
    {
     "data": {
      "image/png": "[encoded data removed]",
      "text/plain": [
       "<Figure size 640x480 with 1 Axes>"
      ]
     },
     "metadata": {},
     "output_type": "display_data"
    }
   ],
   "source": [
    "Other = {'Cases' : ['Postive', 'Recovered', 'Deaths'],\n",
    "    'In Millions' : [60157398, 15719652, 3522861]}\n",
    "data = pd.DataFrame(Other)\n",
    "data.plot(kind='bar', x='Cases', title = 'COVID-19 Cases in All Countries Not Inclusing US', colormap = 'viridis');\n"
   ]
  },
  {
   "cell_type": "code",
   "execution_count": 94,
   "id": "0e82fa65",
   "metadata": {},
   "outputs": [
    {
     "data": {
      "image/png": "[encoded data removed]",
      "text/plain": [
       "<Figure size 640x480 with 1 Axes>"
      ]
     },
     "metadata": {},
     "output_type": "display_data"
    }
   ],
   "source": [
    "All = {'Cases' : ['Postive', 'Recovered', 'Deaths'],\n",
    "    'United States' : [133567277, 10548079, 6808745],\n",
    "        'Others' : [60157398, 15719652, 3522861]}\n",
    "data = pd.DataFrame(All)\n",
    "data.plot(kind='bar', x='Cases', title = 'Comparison of COVID-19 in the US vs Worldwide', colormap = 'viridis');"
   ]
  },
  {
   "cell_type": "code",
   "execution_count": null,
   "id": "a8a9c800",
   "metadata": {},
   "outputs": [],
   "source": []
  }
 ],
 "metadata": {
  "kernelspec": {
   "display_name": "Python 3 (ipykernel)",
   "language": "python",
   "name": "python3"
  },
  "language_info": {
   "codemirror_mode": {
    "name": "ipython",
    "version": 3
   },
   "file_extension": ".py",
   "mimetype": "text/x-python",
   "name": "python",
   "nbconvert_exporter": "python",
   "pygments_lexer": "ipython3",
   "version": "3.9.13"
  },
  "vscode": {
   "interpreter": {
    "hash": "aee8b7b246df8f9039afb4144a1f6fd8d2ca17a180786b69acc140d282b71a49"
   }
  }
 },
 "nbformat": 4,
 "nbformat_minor": 5
}
